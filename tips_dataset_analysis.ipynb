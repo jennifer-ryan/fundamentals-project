{
 "cells": [
  {
   "cell_type": "markdown",
   "metadata": {},
   "source": [
    "<img src=\"https://encrypted-tbn0.gstatic.com/images?q=tbn:ANd9GcSF6wPRlCqNqg8KJypAIlUs4eJV_Pcysyriintzu8CxmzVwS-tM5A&s\">\n",
    "\n",
    "# Analysis of the Tips Dataset"
   ]
  },
  {
   "cell_type": "markdown",
   "metadata": {
    "toc": true
   },
   "source": [
    "<h1>Table of Contents<span class=\"tocSkip\"></span></h1>\n",
    "<div class=\"toc\"><ul class=\"toc-item\"><li><span><a href=\"#Introduction\" data-toc-modified-id=\"Introduction-1\"><span class=\"toc-item-num\">1&nbsp;&nbsp;</span>Introduction</a></span></li><li><span><a href=\"#Importing-Libraries\" data-toc-modified-id=\"Importing-Libraries-2\"><span class=\"toc-item-num\">2&nbsp;&nbsp;</span>Importing Libraries</a></span></li><li><span><a href=\"#Describing-the-Dataset\" data-toc-modified-id=\"Describing-the-Dataset-3\"><span class=\"toc-item-num\">3&nbsp;&nbsp;</span>Describing the Dataset</a></span></li><li><span><a href=\"#Dataset-Layout\" data-toc-modified-id=\"Dataset-Layout-4\"><span class=\"toc-item-num\">4&nbsp;&nbsp;</span>Dataset Layout</a></span></li><li><span><a href=\"#Adding-Columns\" data-toc-modified-id=\"Adding-Columns-5\"><span class=\"toc-item-num\">5&nbsp;&nbsp;</span>Adding Columns</a></span></li><li><span><a href=\"#Descriptive-Statistics\" data-toc-modified-id=\"Descriptive-Statistics-6\"><span class=\"toc-item-num\">6&nbsp;&nbsp;</span>Descriptive Statistics</a></span><ul class=\"toc-item\"><li><span><a href=\"#Numerical-Data\" data-toc-modified-id=\"Numerical-Data-6.1\"><span class=\"toc-item-num\">6.1&nbsp;&nbsp;</span>Numerical Data</a></span><ul class=\"toc-item\"><li><span><a href=\"#Bills-and-Tips\" data-toc-modified-id=\"Bills-and-Tips-6.1.1\"><span class=\"toc-item-num\">6.1.1&nbsp;&nbsp;</span>Bills and Tips</a></span></li><li><span><a href=\"#Size\" data-toc-modified-id=\"Size-6.1.2\"><span class=\"toc-item-num\">6.1.2&nbsp;&nbsp;</span>Size</a></span></li></ul></li><li><span><a href=\"#Categorical-Data\" data-toc-modified-id=\"Categorical-Data-6.2\"><span class=\"toc-item-num\">6.2&nbsp;&nbsp;</span>Categorical Data</a></span><ul class=\"toc-item\"><li><span><a href=\"#Sex\" data-toc-modified-id=\"Sex-6.2.1\"><span class=\"toc-item-num\">6.2.1&nbsp;&nbsp;</span>Sex</a></span></li><li><span><a href=\"#Smoker\" data-toc-modified-id=\"Smoker-6.2.2\"><span class=\"toc-item-num\">6.2.2&nbsp;&nbsp;</span>Smoker</a></span></li><li><span><a href=\"#Day\" data-toc-modified-id=\"Day-6.2.3\"><span class=\"toc-item-num\">6.2.3&nbsp;&nbsp;</span>Day</a></span></li><li><span><a href=\"#Time\" data-toc-modified-id=\"Time-6.2.4\"><span class=\"toc-item-num\">6.2.4&nbsp;&nbsp;</span>Time</a></span></li></ul></li></ul></li><li><span><a href=\"#Relationship-Between-Tip-and-Total-Bill\" data-toc-modified-id=\"Relationship-Between-Tip-and-Total-Bill-7\"><span class=\"toc-item-num\">7&nbsp;&nbsp;</span>Relationship Between Tip and Total Bill</a></span><ul class=\"toc-item\"><li><span><a href=\"#Linear-Regression\" data-toc-modified-id=\"Linear-Regression-7.1\"><span class=\"toc-item-num\">7.1&nbsp;&nbsp;</span>Linear Regression</a></span></li></ul></li><li><span><a href=\"#Relationships-between-Dataset-Variables\" data-toc-modified-id=\"Relationships-between-Dataset-Variables-8\"><span class=\"toc-item-num\">8&nbsp;&nbsp;</span>Relationships between Dataset Variables</a></span><ul class=\"toc-item\"><li><span><a href=\"#Tip-Value-Versus-Tip-Percentage\" data-toc-modified-id=\"Tip-Value-Versus-Tip-Percentage-8.1\"><span class=\"toc-item-num\">8.1&nbsp;&nbsp;</span>Tip Value Versus Tip Percentage</a></span></li><li><span><a href=\"#Tipping-and-Group-Size\" data-toc-modified-id=\"Tipping-and-Group-Size-8.2\"><span class=\"toc-item-num\">8.2&nbsp;&nbsp;</span>Tipping and Group Size</a></span></li><li><span><a href=\"#Rounding-to-the-nearest-dollar\" data-toc-modified-id=\"Rounding-to-the-nearest-dollar-8.3\"><span class=\"toc-item-num\">8.3&nbsp;&nbsp;</span>Rounding to the nearest dollar</a></span></li></ul></li><li><span><a href=\"#Conclusion\" data-toc-modified-id=\"Conclusion-9\"><span class=\"toc-item-num\">9&nbsp;&nbsp;</span>Conclusion</a></span></li><li><span><a href=\"#References\" data-toc-modified-id=\"References-10\"><span class=\"toc-item-num\">10&nbsp;&nbsp;</span>References</a></span></li></ul></div>"
   ]
  },
  {
   "cell_type": "markdown",
   "metadata": {},
   "source": [
    "## Introduction\n",
    "\n",
    "The tips dataset is made up of information collected by a food server during the course of their restaurant shifts over a two and a half month period in 1990.[<sup>1</sup>](https://link.springer.com/chapter/10.1007%2F978-0-387-71762-3_7) It was first published in Bryant & Smith's (1995) *Practical Data Analysis: Case Studies in Business Statistics* but the data is available through the seaborn Python library. The server measured 7 different variables based on the tables they served during their shifts:\n",
    "\n",
    "- Total bill: the total cost of the meal (US Dollars).\n",
    "- Tip: the tip received for each meal (US Dollars).\n",
    "- Sex: the sex of the person that paid for the meal.\n",
    "- Smoker: whether the party was seated in a smoking or non-smoking section. \n",
    "- Day: the day of the week, Thursday-Sunday inclusive. \n",
    "- Time: whether it was lunch or dinner service.\n",
    "- Size: the size of the party at the table.\n",
    "\n",
    "This project investigates this dataset first by describing each of the variables and then exploring relationships between them. "
   ]
  },
  {
   "cell_type": "markdown",
   "metadata": {},
   "source": [
    "<br>\n",
    "\n",
    "## Importing Libraries\n",
    "\n",
    "Below are the libraries used in this notebook. I rely largely on pandas for data analysis, seaborn for data visualisation and scikit learn for regression analysis. "
   ]
  },
  {
   "cell_type": "code",
   "execution_count": 1,
   "metadata": {},
   "outputs": [],
   "source": [
    "# Importing libraries.\n",
    "import seaborn as sns\n",
    "sns.set(style=\"whitegrid\")\n",
    "import pandas as pd\n",
    "import numpy as np\n",
    "import matplotlib.pyplot as plt\n",
    "%matplotlib inline\n",
    "from sklearn.model_selection import train_test_split \n",
    "from sklearn.linear_model import LinearRegression \n",
    "from sklearn.linear_model import LogisticRegression\n",
    "from sklearn import metrics\n",
    "from sklearn.neighbors import KNeighborsClassifier as knc"
   ]
  },
  {
   "cell_type": "markdown",
   "metadata": {},
   "source": [
    "<br>\n",
    "\n",
    "## Describing the Dataset\n",
    "\n",
    "A summary of information about the tips dataset below shows that it loads from seaborn as a pandas dataframe, which will be useful for statistical analysis. There are 7 columns with 244 entries in each and, thankfully, no missing values to contend with. There are 2 float datatypes, 4 categorical datatypes, and 1 integer datatype.   "
   ]
  },
  {
   "cell_type": "code",
   "execution_count": 2,
   "metadata": {},
   "outputs": [
    {
     "name": "stdout",
     "output_type": "stream",
     "text": [
      "<class 'pandas.core.frame.DataFrame'>\n",
      "RangeIndex: 244 entries, 0 to 243\n",
      "Data columns (total 7 columns):\n",
      "total_bill    244 non-null float64\n",
      "tip           244 non-null float64\n",
      "sex           244 non-null category\n",
      "smoker        244 non-null category\n",
      "day           244 non-null category\n",
      "time          244 non-null category\n",
      "size          244 non-null int64\n",
      "dtypes: category(4), float64(2), int64(1)\n",
      "memory usage: 7.3 KB\n"
     ]
    }
   ],
   "source": [
    "# Load dataset and view information.\n",
    "tips_df = sns.load_dataset(\"tips\")\n",
    "tips_df.info()"
   ]
  },
  {
   "cell_type": "markdown",
   "metadata": {},
   "source": [
    "<br>\n",
    "\n",
    "## Dataset Layout\n",
    "\n",
    "The first and last rows are displayed below, giving an overview of the layout of the dataset. The data looks to be consistent across all variables throughout. The datatypes of each column listed in the previous section appear to be the most appropriate for the data being represented, ie. numerical data is stored as floats or integers and categorical data is stored as categories. "
   ]
  },
  {
   "cell_type": "code",
   "execution_count": 3,
   "metadata": {},
   "outputs": [
    {
     "data": {
      "text/html": [
       "<div>\n",
       "<style scoped>\n",
       "    .dataframe tbody tr th:only-of-type {\n",
       "        vertical-align: middle;\n",
       "    }\n",
       "\n",
       "    .dataframe tbody tr th {\n",
       "        vertical-align: top;\n",
       "    }\n",
       "\n",
       "    .dataframe thead th {\n",
       "        text-align: right;\n",
       "    }\n",
       "</style>\n",
       "<table border=\"1\" class=\"dataframe\">\n",
       "  <thead>\n",
       "    <tr style=\"text-align: right;\">\n",
       "      <th></th>\n",
       "      <th>total_bill</th>\n",
       "      <th>tip</th>\n",
       "      <th>sex</th>\n",
       "      <th>smoker</th>\n",
       "      <th>day</th>\n",
       "      <th>time</th>\n",
       "      <th>size</th>\n",
       "    </tr>\n",
       "  </thead>\n",
       "  <tbody>\n",
       "    <tr>\n",
       "      <td>0</td>\n",
       "      <td>16.99</td>\n",
       "      <td>1.01</td>\n",
       "      <td>Female</td>\n",
       "      <td>No</td>\n",
       "      <td>Sun</td>\n",
       "      <td>Dinner</td>\n",
       "      <td>2</td>\n",
       "    </tr>\n",
       "    <tr>\n",
       "      <td>1</td>\n",
       "      <td>10.34</td>\n",
       "      <td>1.66</td>\n",
       "      <td>Male</td>\n",
       "      <td>No</td>\n",
       "      <td>Sun</td>\n",
       "      <td>Dinner</td>\n",
       "      <td>3</td>\n",
       "    </tr>\n",
       "    <tr>\n",
       "      <td>2</td>\n",
       "      <td>21.01</td>\n",
       "      <td>3.50</td>\n",
       "      <td>Male</td>\n",
       "      <td>No</td>\n",
       "      <td>Sun</td>\n",
       "      <td>Dinner</td>\n",
       "      <td>3</td>\n",
       "    </tr>\n",
       "    <tr>\n",
       "      <td>3</td>\n",
       "      <td>23.68</td>\n",
       "      <td>3.31</td>\n",
       "      <td>Male</td>\n",
       "      <td>No</td>\n",
       "      <td>Sun</td>\n",
       "      <td>Dinner</td>\n",
       "      <td>2</td>\n",
       "    </tr>\n",
       "    <tr>\n",
       "      <td>4</td>\n",
       "      <td>24.59</td>\n",
       "      <td>3.61</td>\n",
       "      <td>Female</td>\n",
       "      <td>No</td>\n",
       "      <td>Sun</td>\n",
       "      <td>Dinner</td>\n",
       "      <td>4</td>\n",
       "    </tr>\n",
       "    <tr>\n",
       "      <td>5</td>\n",
       "      <td>25.29</td>\n",
       "      <td>4.71</td>\n",
       "      <td>Male</td>\n",
       "      <td>No</td>\n",
       "      <td>Sun</td>\n",
       "      <td>Dinner</td>\n",
       "      <td>4</td>\n",
       "    </tr>\n",
       "    <tr>\n",
       "      <td>6</td>\n",
       "      <td>8.77</td>\n",
       "      <td>2.00</td>\n",
       "      <td>Male</td>\n",
       "      <td>No</td>\n",
       "      <td>Sun</td>\n",
       "      <td>Dinner</td>\n",
       "      <td>2</td>\n",
       "    </tr>\n",
       "    <tr>\n",
       "      <td>7</td>\n",
       "      <td>26.88</td>\n",
       "      <td>3.12</td>\n",
       "      <td>Male</td>\n",
       "      <td>No</td>\n",
       "      <td>Sun</td>\n",
       "      <td>Dinner</td>\n",
       "      <td>4</td>\n",
       "    </tr>\n",
       "    <tr>\n",
       "      <td>8</td>\n",
       "      <td>15.04</td>\n",
       "      <td>1.96</td>\n",
       "      <td>Male</td>\n",
       "      <td>No</td>\n",
       "      <td>Sun</td>\n",
       "      <td>Dinner</td>\n",
       "      <td>2</td>\n",
       "    </tr>\n",
       "    <tr>\n",
       "      <td>9</td>\n",
       "      <td>14.78</td>\n",
       "      <td>3.23</td>\n",
       "      <td>Male</td>\n",
       "      <td>No</td>\n",
       "      <td>Sun</td>\n",
       "      <td>Dinner</td>\n",
       "      <td>2</td>\n",
       "    </tr>\n",
       "  </tbody>\n",
       "</table>\n",
       "</div>"
      ],
      "text/plain": [
       "   total_bill   tip     sex smoker  day    time  size\n",
       "0       16.99  1.01  Female     No  Sun  Dinner     2\n",
       "1       10.34  1.66    Male     No  Sun  Dinner     3\n",
       "2       21.01  3.50    Male     No  Sun  Dinner     3\n",
       "3       23.68  3.31    Male     No  Sun  Dinner     2\n",
       "4       24.59  3.61  Female     No  Sun  Dinner     4\n",
       "5       25.29  4.71    Male     No  Sun  Dinner     4\n",
       "6        8.77  2.00    Male     No  Sun  Dinner     2\n",
       "7       26.88  3.12    Male     No  Sun  Dinner     4\n",
       "8       15.04  1.96    Male     No  Sun  Dinner     2\n",
       "9       14.78  3.23    Male     No  Sun  Dinner     2"
      ]
     },
     "execution_count": 3,
     "metadata": {},
     "output_type": "execute_result"
    }
   ],
   "source": [
    "# Viewing the first 10 rows of the tips dataset\n",
    "tips_df.head(10)"
   ]
  },
  {
   "cell_type": "code",
   "execution_count": 4,
   "metadata": {},
   "outputs": [
    {
     "data": {
      "text/html": [
       "<div>\n",
       "<style scoped>\n",
       "    .dataframe tbody tr th:only-of-type {\n",
       "        vertical-align: middle;\n",
       "    }\n",
       "\n",
       "    .dataframe tbody tr th {\n",
       "        vertical-align: top;\n",
       "    }\n",
       "\n",
       "    .dataframe thead th {\n",
       "        text-align: right;\n",
       "    }\n",
       "</style>\n",
       "<table border=\"1\" class=\"dataframe\">\n",
       "  <thead>\n",
       "    <tr style=\"text-align: right;\">\n",
       "      <th></th>\n",
       "      <th>total_bill</th>\n",
       "      <th>tip</th>\n",
       "      <th>sex</th>\n",
       "      <th>smoker</th>\n",
       "      <th>day</th>\n",
       "      <th>time</th>\n",
       "      <th>size</th>\n",
       "    </tr>\n",
       "  </thead>\n",
       "  <tbody>\n",
       "    <tr>\n",
       "      <td>234</td>\n",
       "      <td>15.53</td>\n",
       "      <td>3.00</td>\n",
       "      <td>Male</td>\n",
       "      <td>Yes</td>\n",
       "      <td>Sat</td>\n",
       "      <td>Dinner</td>\n",
       "      <td>2</td>\n",
       "    </tr>\n",
       "    <tr>\n",
       "      <td>235</td>\n",
       "      <td>10.07</td>\n",
       "      <td>1.25</td>\n",
       "      <td>Male</td>\n",
       "      <td>No</td>\n",
       "      <td>Sat</td>\n",
       "      <td>Dinner</td>\n",
       "      <td>2</td>\n",
       "    </tr>\n",
       "    <tr>\n",
       "      <td>236</td>\n",
       "      <td>12.60</td>\n",
       "      <td>1.00</td>\n",
       "      <td>Male</td>\n",
       "      <td>Yes</td>\n",
       "      <td>Sat</td>\n",
       "      <td>Dinner</td>\n",
       "      <td>2</td>\n",
       "    </tr>\n",
       "    <tr>\n",
       "      <td>237</td>\n",
       "      <td>32.83</td>\n",
       "      <td>1.17</td>\n",
       "      <td>Male</td>\n",
       "      <td>Yes</td>\n",
       "      <td>Sat</td>\n",
       "      <td>Dinner</td>\n",
       "      <td>2</td>\n",
       "    </tr>\n",
       "    <tr>\n",
       "      <td>238</td>\n",
       "      <td>35.83</td>\n",
       "      <td>4.67</td>\n",
       "      <td>Female</td>\n",
       "      <td>No</td>\n",
       "      <td>Sat</td>\n",
       "      <td>Dinner</td>\n",
       "      <td>3</td>\n",
       "    </tr>\n",
       "    <tr>\n",
       "      <td>239</td>\n",
       "      <td>29.03</td>\n",
       "      <td>5.92</td>\n",
       "      <td>Male</td>\n",
       "      <td>No</td>\n",
       "      <td>Sat</td>\n",
       "      <td>Dinner</td>\n",
       "      <td>3</td>\n",
       "    </tr>\n",
       "    <tr>\n",
       "      <td>240</td>\n",
       "      <td>27.18</td>\n",
       "      <td>2.00</td>\n",
       "      <td>Female</td>\n",
       "      <td>Yes</td>\n",
       "      <td>Sat</td>\n",
       "      <td>Dinner</td>\n",
       "      <td>2</td>\n",
       "    </tr>\n",
       "    <tr>\n",
       "      <td>241</td>\n",
       "      <td>22.67</td>\n",
       "      <td>2.00</td>\n",
       "      <td>Male</td>\n",
       "      <td>Yes</td>\n",
       "      <td>Sat</td>\n",
       "      <td>Dinner</td>\n",
       "      <td>2</td>\n",
       "    </tr>\n",
       "    <tr>\n",
       "      <td>242</td>\n",
       "      <td>17.82</td>\n",
       "      <td>1.75</td>\n",
       "      <td>Male</td>\n",
       "      <td>No</td>\n",
       "      <td>Sat</td>\n",
       "      <td>Dinner</td>\n",
       "      <td>2</td>\n",
       "    </tr>\n",
       "    <tr>\n",
       "      <td>243</td>\n",
       "      <td>18.78</td>\n",
       "      <td>3.00</td>\n",
       "      <td>Female</td>\n",
       "      <td>No</td>\n",
       "      <td>Thur</td>\n",
       "      <td>Dinner</td>\n",
       "      <td>2</td>\n",
       "    </tr>\n",
       "  </tbody>\n",
       "</table>\n",
       "</div>"
      ],
      "text/plain": [
       "     total_bill   tip     sex smoker   day    time  size\n",
       "234       15.53  3.00    Male    Yes   Sat  Dinner     2\n",
       "235       10.07  1.25    Male     No   Sat  Dinner     2\n",
       "236       12.60  1.00    Male    Yes   Sat  Dinner     2\n",
       "237       32.83  1.17    Male    Yes   Sat  Dinner     2\n",
       "238       35.83  4.67  Female     No   Sat  Dinner     3\n",
       "239       29.03  5.92    Male     No   Sat  Dinner     3\n",
       "240       27.18  2.00  Female    Yes   Sat  Dinner     2\n",
       "241       22.67  2.00    Male    Yes   Sat  Dinner     2\n",
       "242       17.82  1.75    Male     No   Sat  Dinner     2\n",
       "243       18.78  3.00  Female     No  Thur  Dinner     2"
      ]
     },
     "execution_count": 4,
     "metadata": {},
     "output_type": "execute_result"
    }
   ],
   "source": [
    "# Viewing the last 10 rows of the tips dataset\n",
    "tips_df.tail(10)"
   ]
  },
  {
   "cell_type": "markdown",
   "metadata": {},
   "source": [
    "## Adding Columns\n",
    "\n",
    "I decided to add 2 columns to the tips dataset to help with later analysis:\n",
    "\n",
    "1. *total_paid:* the sum of the total bill and the tip to indicate the total amount on money handed over by the customer. This will be used later when questioning whether customers prefer to round to the nearest dollar when tipping. \n",
    "2. *tip_percent:* the tip as a percentage of the total bill. This is useful as tips are more accurately measured as a proportion of the total bill than by face value.\n",
    "\n",
    "These columns have been added by other analyses of this dataset (https://devarea.com/python-machine-learning-example-linear-regression/#.Xdqeb-j7RPZ)"
   ]
  },
  {
   "cell_type": "code",
   "execution_count": 5,
   "metadata": {},
   "outputs": [],
   "source": [
    "# Adding the total_paid column.\n",
    "total_paid = tips_df.tip + tips_df.total_bill \n",
    "tips_df['total_paid'] = total_paid\n",
    "\n",
    "# Adding the tip_percent column.\n",
    "tip_percent = tips_df.tip/tips_df.total_bill*100\n",
    "tips_df['tip_percent'] = tip_percent"
   ]
  },
  {
   "cell_type": "markdown",
   "metadata": {},
   "source": [
    "<br>\n",
    "\n",
    "## Descriptive Statistics\n",
    "\n",
    "Below are some basic descriptive statistics for the tips dataset. The first section describes the numeric columns and the second describes the categorical columns. While it is possible to view all of these statistics in one table, I decided to split them as there are different descriptive fields for the different datatypes and separating them makes them more readable. Such exploratory analysis helps to identify potentially interesting relationships between variables that can be explored later. \n",
    "\n",
    "### Numerical Data\n",
    "\n",
    "The numerical data shows the average total bill amount is \\\\$19.79 with an average tip of just under \\\\$3.00 and an average group size between 2-3 people. Every customer that this server met tipped at least \\\\$1. The additional columns have an average of \\\\$22.78 paid in total by customers and the average tip percentage is 16.08\\%, which is close to the 15\\% average of the time. (https://scholarship.sha.cornell.edu/cgi/viewcontent.cgi?referer=&httpsredir=1&article=1036&context=articles) According to literature, the restaurant is an American national chain located in a suburban shopping mall,[<sup>2</sup>](https://link.springer.com/chapter/10.1007%2F978-0-387-71762-3_7) which indicates more of a casual dining setting with cheaper food prices.[<sup>3</sup>](https://www.foodfranchise.com/blog/food-franchise-blog/the-biggest-differences-between-mall-and-stand-alone-locations)"
   ]
  },
  {
   "cell_type": "code",
   "execution_count": 6,
   "metadata": {},
   "outputs": [
    {
     "data": {
      "text/html": [
       "<div>\n",
       "<style scoped>\n",
       "    .dataframe tbody tr th:only-of-type {\n",
       "        vertical-align: middle;\n",
       "    }\n",
       "\n",
       "    .dataframe tbody tr th {\n",
       "        vertical-align: top;\n",
       "    }\n",
       "\n",
       "    .dataframe thead th {\n",
       "        text-align: right;\n",
       "    }\n",
       "</style>\n",
       "<table border=\"1\" class=\"dataframe\">\n",
       "  <thead>\n",
       "    <tr style=\"text-align: right;\">\n",
       "      <th></th>\n",
       "      <th>total_bill</th>\n",
       "      <th>tip</th>\n",
       "      <th>size</th>\n",
       "      <th>total_paid</th>\n",
       "      <th>tip_percent</th>\n",
       "    </tr>\n",
       "  </thead>\n",
       "  <tbody>\n",
       "    <tr>\n",
       "      <td>count</td>\n",
       "      <td>244.000000</td>\n",
       "      <td>244.000000</td>\n",
       "      <td>244.000000</td>\n",
       "      <td>244.000000</td>\n",
       "      <td>244.000000</td>\n",
       "    </tr>\n",
       "    <tr>\n",
       "      <td>mean</td>\n",
       "      <td>19.785943</td>\n",
       "      <td>2.998279</td>\n",
       "      <td>2.569672</td>\n",
       "      <td>22.784221</td>\n",
       "      <td>16.080258</td>\n",
       "    </tr>\n",
       "    <tr>\n",
       "      <td>std</td>\n",
       "      <td>8.902412</td>\n",
       "      <td>1.383638</td>\n",
       "      <td>0.951100</td>\n",
       "      <td>9.890116</td>\n",
       "      <td>6.107220</td>\n",
       "    </tr>\n",
       "    <tr>\n",
       "      <td>min</td>\n",
       "      <td>3.070000</td>\n",
       "      <td>1.000000</td>\n",
       "      <td>1.000000</td>\n",
       "      <td>4.070000</td>\n",
       "      <td>3.563814</td>\n",
       "    </tr>\n",
       "    <tr>\n",
       "      <td>25%</td>\n",
       "      <td>13.347500</td>\n",
       "      <td>2.000000</td>\n",
       "      <td>2.000000</td>\n",
       "      <td>15.475000</td>\n",
       "      <td>12.912736</td>\n",
       "    </tr>\n",
       "    <tr>\n",
       "      <td>50%</td>\n",
       "      <td>17.795000</td>\n",
       "      <td>2.900000</td>\n",
       "      <td>2.000000</td>\n",
       "      <td>20.600000</td>\n",
       "      <td>15.476977</td>\n",
       "    </tr>\n",
       "    <tr>\n",
       "      <td>75%</td>\n",
       "      <td>24.127500</td>\n",
       "      <td>3.562500</td>\n",
       "      <td>3.000000</td>\n",
       "      <td>27.722500</td>\n",
       "      <td>19.147549</td>\n",
       "    </tr>\n",
       "    <tr>\n",
       "      <td>max</td>\n",
       "      <td>50.810000</td>\n",
       "      <td>10.000000</td>\n",
       "      <td>6.000000</td>\n",
       "      <td>60.810000</td>\n",
       "      <td>71.034483</td>\n",
       "    </tr>\n",
       "  </tbody>\n",
       "</table>\n",
       "</div>"
      ],
      "text/plain": [
       "       total_bill         tip        size  total_paid  tip_percent\n",
       "count  244.000000  244.000000  244.000000  244.000000   244.000000\n",
       "mean    19.785943    2.998279    2.569672   22.784221    16.080258\n",
       "std      8.902412    1.383638    0.951100    9.890116     6.107220\n",
       "min      3.070000    1.000000    1.000000    4.070000     3.563814\n",
       "25%     13.347500    2.000000    2.000000   15.475000    12.912736\n",
       "50%     17.795000    2.900000    2.000000   20.600000    15.476977\n",
       "75%     24.127500    3.562500    3.000000   27.722500    19.147549\n",
       "max     50.810000   10.000000    6.000000   60.810000    71.034483"
      ]
     },
     "execution_count": 6,
     "metadata": {},
     "output_type": "execute_result"
    }
   ],
   "source": [
    "# Numerical descriptive statistics.\n",
    "tips_df.describe()"
   ]
  },
  {
   "cell_type": "markdown",
   "metadata": {},
   "source": [
    "#### Bills and Tips \n",
    "\n",
    "The plots below illustrate that the distributions of the variables relating to bills and tips all peak quickly at the lower end of the scale before dramatically dropping off as the value increases. This indicates that the majority of values are within quite a tight range and customers tend to spend smaller dollar amounts. Looking at these plots it appears that:"
   ]
  },
  {
   "cell_type": "markdown",
   "metadata": {},
   "source": [
    "Most bills are within \\\\$10 - \\\\$25, peaking at roughly \\\\$12."
   ]
  },
  {
   "cell_type": "code",
   "execution_count": 7,
   "metadata": {},
   "outputs": [
    {
     "data": {
      "image/png": "[encoded data removed]",
      "text/plain": [
       "<Figure size 720x360 with 1 Axes>"
      ]
     },
     "metadata": {
      "needs_background": "light"
     },
     "output_type": "display_data"
    }
   ],
   "source": [
    "# Plotting total_bill distribution.\n",
    "plt.figure(figsize=(10, 5))\n",
    "sns.distplot(tips_df.total_bill, color='purple')\n",
    "plt.show()"
   ]
  },
  {
   "cell_type": "markdown",
   "metadata": {},
   "source": [
    "<br>\n",
    "Most tips are within \\$1 - \\$4, and peaks at about the \\$2 mark."
   ]
  },
  {
   "cell_type": "code",
   "execution_count": 8,
   "metadata": {},
   "outputs": [
    {
     "data": {
      "image/png": "[encoded data removed]",
      "text/plain": [
       "<Figure size 720x360 with 1 Axes>"
      ]
     },
     "metadata": {
      "needs_background": "light"
     },
     "output_type": "display_data"
    }
   ],
   "source": [
    "# Plotting tip distribution.\n",
    "plt.figure(figsize=(10, 5))\n",
    "sns.distplot(tips_df.tip, color='green')\n",
    "plt.show()"
   ]
  },
  {
   "cell_type": "markdown",
   "metadata": {},
   "source": [
    "<br>\n",
    "The total amount paid by customers is between \\$10 - \\$30, peaking at about the \\$15 mark."
   ]
  },
  {
   "cell_type": "code",
   "execution_count": 9,
   "metadata": {},
   "outputs": [
    {
     "data": {
      "image/png": "[encoded data removed]",
      "text/plain": [
       "<Figure size 720x360 with 1 Axes>"
      ]
     },
     "metadata": {
      "needs_background": "light"
     },
     "output_type": "display_data"
    }
   ],
   "source": [
    "# Plotting total_paid distribution.\n",
    "plt.figure(figsize=(10, 5))\n",
    "sns.distplot(tips_df.total_paid, color='blue')\n",
    "plt.show()"
   ]
  },
  {
   "cell_type": "markdown",
   "metadata": {},
   "source": [
    "<br>\n",
    "The tip percentage is largely between 10% - 20% and looks to peak around the 15% mark. "
   ]
  },
  {
   "cell_type": "code",
   "execution_count": 10,
   "metadata": {},
   "outputs": [
    {
     "data": {
      "image/png": "[encoded data removed]",
      "text/plain": [
       "<Figure size 720x360 with 1 Axes>"
      ]
     },
     "metadata": {
      "needs_background": "light"
     },
     "output_type": "display_data"
    }
   ],
   "source": [
    "# Plotting tip_percent distribution.\n",
    "plt.figure(figsize=(10, 5))\n",
    "sns.distplot(tips_df.tip_percent, color='orange')\n",
    "plt.show()"
   ]
  },
  {
   "cell_type": "markdown",
   "metadata": {},
   "source": [
    "The final plot above that demonstrates tip percentages looks like it may have a couple of outliers. A large gap such as that between 30%-70% is not evident in the plot that shows the tip values so perhaps these are just proportionally generous tips on relatively small bills. To look into this, the code below sorts the dataset from highest to lowest tippers. This reveals that there was a customer that gave a 71\\% tip on a \\\\$7.25 bill and another that gave a 41.7\\% tip on a \\\\$9.60 bill so large proportional tips do not necessitate a large bill. All other tips in the dataset are below 33\\%."
   ]
  },
  {
   "cell_type": "code",
   "execution_count": 11,
   "metadata": {
    "scrolled": true
   },
   "outputs": [
    {
     "data": {
      "text/html": [
       "<div>\n",
       "<style scoped>\n",
       "    .dataframe tbody tr th:only-of-type {\n",
       "        vertical-align: middle;\n",
       "    }\n",
       "\n",
       "    .dataframe tbody tr th {\n",
       "        vertical-align: top;\n",
       "    }\n",
       "\n",
       "    .dataframe thead th {\n",
       "        text-align: right;\n",
       "    }\n",
       "</style>\n",
       "<table border=\"1\" class=\"dataframe\">\n",
       "  <thead>\n",
       "    <tr style=\"text-align: right;\">\n",
       "      <th></th>\n",
       "      <th>total_bill</th>\n",
       "      <th>tip</th>\n",
       "      <th>sex</th>\n",
       "      <th>smoker</th>\n",
       "      <th>day</th>\n",
       "      <th>time</th>\n",
       "      <th>size</th>\n",
       "      <th>total_paid</th>\n",
       "      <th>tip_percent</th>\n",
       "    </tr>\n",
       "  </thead>\n",
       "  <tbody>\n",
       "    <tr>\n",
       "      <td>172</td>\n",
       "      <td>7.25</td>\n",
       "      <td>5.15</td>\n",
       "      <td>Male</td>\n",
       "      <td>Yes</td>\n",
       "      <td>Sun</td>\n",
       "      <td>Dinner</td>\n",
       "      <td>2</td>\n",
       "      <td>12.40</td>\n",
       "      <td>71.034483</td>\n",
       "    </tr>\n",
       "    <tr>\n",
       "      <td>178</td>\n",
       "      <td>9.60</td>\n",
       "      <td>4.00</td>\n",
       "      <td>Female</td>\n",
       "      <td>Yes</td>\n",
       "      <td>Sun</td>\n",
       "      <td>Dinner</td>\n",
       "      <td>2</td>\n",
       "      <td>13.60</td>\n",
       "      <td>41.666667</td>\n",
       "    </tr>\n",
       "    <tr>\n",
       "      <td>67</td>\n",
       "      <td>3.07</td>\n",
       "      <td>1.00</td>\n",
       "      <td>Female</td>\n",
       "      <td>Yes</td>\n",
       "      <td>Sat</td>\n",
       "      <td>Dinner</td>\n",
       "      <td>1</td>\n",
       "      <td>4.07</td>\n",
       "      <td>32.573290</td>\n",
       "    </tr>\n",
       "    <tr>\n",
       "      <td>232</td>\n",
       "      <td>11.61</td>\n",
       "      <td>3.39</td>\n",
       "      <td>Male</td>\n",
       "      <td>No</td>\n",
       "      <td>Sat</td>\n",
       "      <td>Dinner</td>\n",
       "      <td>2</td>\n",
       "      <td>15.00</td>\n",
       "      <td>29.198966</td>\n",
       "    </tr>\n",
       "    <tr>\n",
       "      <td>183</td>\n",
       "      <td>23.17</td>\n",
       "      <td>6.50</td>\n",
       "      <td>Male</td>\n",
       "      <td>Yes</td>\n",
       "      <td>Sun</td>\n",
       "      <td>Dinner</td>\n",
       "      <td>4</td>\n",
       "      <td>29.67</td>\n",
       "      <td>28.053517</td>\n",
       "    </tr>\n",
       "    <tr>\n",
       "      <td>...</td>\n",
       "      <td>...</td>\n",
       "      <td>...</td>\n",
       "      <td>...</td>\n",
       "      <td>...</td>\n",
       "      <td>...</td>\n",
       "      <td>...</td>\n",
       "      <td>...</td>\n",
       "      <td>...</td>\n",
       "      <td>...</td>\n",
       "    </tr>\n",
       "    <tr>\n",
       "      <td>187</td>\n",
       "      <td>30.46</td>\n",
       "      <td>2.00</td>\n",
       "      <td>Male</td>\n",
       "      <td>Yes</td>\n",
       "      <td>Sun</td>\n",
       "      <td>Dinner</td>\n",
       "      <td>5</td>\n",
       "      <td>32.46</td>\n",
       "      <td>6.565988</td>\n",
       "    </tr>\n",
       "    <tr>\n",
       "      <td>0</td>\n",
       "      <td>16.99</td>\n",
       "      <td>1.01</td>\n",
       "      <td>Female</td>\n",
       "      <td>No</td>\n",
       "      <td>Sun</td>\n",
       "      <td>Dinner</td>\n",
       "      <td>2</td>\n",
       "      <td>18.00</td>\n",
       "      <td>5.944673</td>\n",
       "    </tr>\n",
       "    <tr>\n",
       "      <td>57</td>\n",
       "      <td>26.41</td>\n",
       "      <td>1.50</td>\n",
       "      <td>Female</td>\n",
       "      <td>No</td>\n",
       "      <td>Sat</td>\n",
       "      <td>Dinner</td>\n",
       "      <td>2</td>\n",
       "      <td>27.91</td>\n",
       "      <td>5.679667</td>\n",
       "    </tr>\n",
       "    <tr>\n",
       "      <td>102</td>\n",
       "      <td>44.30</td>\n",
       "      <td>2.50</td>\n",
       "      <td>Female</td>\n",
       "      <td>Yes</td>\n",
       "      <td>Sat</td>\n",
       "      <td>Dinner</td>\n",
       "      <td>3</td>\n",
       "      <td>46.80</td>\n",
       "      <td>5.643341</td>\n",
       "    </tr>\n",
       "    <tr>\n",
       "      <td>237</td>\n",
       "      <td>32.83</td>\n",
       "      <td>1.17</td>\n",
       "      <td>Male</td>\n",
       "      <td>Yes</td>\n",
       "      <td>Sat</td>\n",
       "      <td>Dinner</td>\n",
       "      <td>2</td>\n",
       "      <td>34.00</td>\n",
       "      <td>3.563814</td>\n",
       "    </tr>\n",
       "  </tbody>\n",
       "</table>\n",
       "<p>244 rows × 9 columns</p>\n",
       "</div>"
      ],
      "text/plain": [
       "     total_bill   tip     sex smoker  day    time  size  total_paid  \\\n",
       "172        7.25  5.15    Male    Yes  Sun  Dinner     2       12.40   \n",
       "178        9.60  4.00  Female    Yes  Sun  Dinner     2       13.60   \n",
       "67         3.07  1.00  Female    Yes  Sat  Dinner     1        4.07   \n",
       "232       11.61  3.39    Male     No  Sat  Dinner     2       15.00   \n",
       "183       23.17  6.50    Male    Yes  Sun  Dinner     4       29.67   \n",
       "..          ...   ...     ...    ...  ...     ...   ...         ...   \n",
       "187       30.46  2.00    Male    Yes  Sun  Dinner     5       32.46   \n",
       "0         16.99  1.01  Female     No  Sun  Dinner     2       18.00   \n",
       "57        26.41  1.50  Female     No  Sat  Dinner     2       27.91   \n",
       "102       44.30  2.50  Female    Yes  Sat  Dinner     3       46.80   \n",
       "237       32.83  1.17    Male    Yes  Sat  Dinner     2       34.00   \n",
       "\n",
       "     tip_percent  \n",
       "172    71.034483  \n",
       "178    41.666667  \n",
       "67     32.573290  \n",
       "232    29.198966  \n",
       "183    28.053517  \n",
       "..           ...  \n",
       "187     6.565988  \n",
       "0       5.944673  \n",
       "57      5.679667  \n",
       "102     5.643341  \n",
       "237     3.563814  \n",
       "\n",
       "[244 rows x 9 columns]"
      ]
     },
     "execution_count": 11,
     "metadata": {},
     "output_type": "execute_result"
    }
   ],
   "source": [
    "# Sorting lowest to highest tip percent\n",
    "tips_df.sort_values(by='tip_percent', ascending=False)"
   ]
  },
  {
   "cell_type": "markdown",
   "metadata": {},
   "source": [
    "#### Size\n",
    "\n",
    "The figures and plot below show that of the 244 groups that were served by this employee, the vast majority, 63.9\\%, were tables of 2. Tables of 3 or 4 are next most common while tables of 1, 5, or 6 guests are very rare. Because of these figures, when I discuss relationships between group size and other variables, I will focus on groups of 2, 3 or 4 tables as the other sizes do not have enough data points to be significant."
   ]
  },
  {
   "cell_type": "code",
   "execution_count": 12,
   "metadata": {},
   "outputs": [
    {
     "data": {
      "text/html": [
       "<div>\n",
       "<style scoped>\n",
       "    .dataframe tbody tr th:only-of-type {\n",
       "        vertical-align: middle;\n",
       "    }\n",
       "\n",
       "    .dataframe tbody tr th {\n",
       "        vertical-align: top;\n",
       "    }\n",
       "\n",
       "    .dataframe thead th {\n",
       "        text-align: right;\n",
       "    }\n",
       "</style>\n",
       "<table border=\"1\" class=\"dataframe\">\n",
       "  <thead>\n",
       "    <tr style=\"text-align: right;\">\n",
       "      <th></th>\n",
       "      <th></th>\n",
       "    </tr>\n",
       "    <tr>\n",
       "      <th>size</th>\n",
       "      <th></th>\n",
       "    </tr>\n",
       "  </thead>\n",
       "  <tbody>\n",
       "    <tr>\n",
       "      <td>1</td>\n",
       "      <td>4</td>\n",
       "    </tr>\n",
       "    <tr>\n",
       "      <td>2</td>\n",
       "      <td>156</td>\n",
       "    </tr>\n",
       "    <tr>\n",
       "      <td>3</td>\n",
       "      <td>38</td>\n",
       "    </tr>\n",
       "    <tr>\n",
       "      <td>4</td>\n",
       "      <td>37</td>\n",
       "    </tr>\n",
       "    <tr>\n",
       "      <td>5</td>\n",
       "      <td>5</td>\n",
       "    </tr>\n",
       "    <tr>\n",
       "      <td>6</td>\n",
       "      <td>4</td>\n",
       "    </tr>\n",
       "  </tbody>\n",
       "</table>\n",
       "</div>"
      ],
      "text/plain": [
       "         \n",
       "size     \n",
       "1       4\n",
       "2     156\n",
       "3      38\n",
       "4      37\n",
       "5       5\n",
       "6       4"
      ]
     },
     "execution_count": 12,
     "metadata": {},
     "output_type": "execute_result"
    }
   ],
   "source": [
    "# Group size value counts.\n",
    "size = tips_df.groupby('size').size()\n",
    "pd.Series.to_frame(size, name= \" \")"
   ]
  },
  {
   "cell_type": "code",
   "execution_count": 13,
   "metadata": {},
   "outputs": [
    {
     "data": {
      "image/png": "[encoded data removed]",
      "text/plain": [
       "<Figure size 720x360 with 1 Axes>"
      ]
     },
     "metadata": {
      "needs_background": "light"
     },
     "output_type": "display_data"
    }
   ],
   "source": [
    "# Plotting group size distribution.\n",
    "plt.figure(figsize=(10, 5))\n",
    "sns.countplot(x='size', data=tips_df)\n",
    "plt.show()"
   ]
  },
  {
   "cell_type": "markdown",
   "metadata": {},
   "source": [
    "Looking at the mean values by group size below shows that the total bill grows with the group size, as one would expect. There is a similar trend with the tip amount, not accounting for the difference between 4 and 5 people. As mentioned previously, the data for 1, 5, and 6 people isn't substantial enough to draw any conclusions. However, proportionally it looks like larger groups tip less with the tip percentage dropping the more people are seated at a table. This will be explored in more detail in a later section."
   ]
  },
  {
   "cell_type": "code",
   "execution_count": 14,
   "metadata": {},
   "outputs": [
    {
     "data": {
      "text/html": [
       "<div>\n",
       "<style scoped>\n",
       "    .dataframe tbody tr th:only-of-type {\n",
       "        vertical-align: middle;\n",
       "    }\n",
       "\n",
       "    .dataframe tbody tr th {\n",
       "        vertical-align: top;\n",
       "    }\n",
       "\n",
       "    .dataframe thead th {\n",
       "        text-align: right;\n",
       "    }\n",
       "</style>\n",
       "<table border=\"1\" class=\"dataframe\">\n",
       "  <thead>\n",
       "    <tr style=\"text-align: right;\">\n",
       "      <th></th>\n",
       "      <th>total_bill</th>\n",
       "      <th>tip</th>\n",
       "      <th>total_paid</th>\n",
       "      <th>tip_percent</th>\n",
       "    </tr>\n",
       "    <tr>\n",
       "      <th>size</th>\n",
       "      <th></th>\n",
       "      <th></th>\n",
       "      <th></th>\n",
       "      <th></th>\n",
       "    </tr>\n",
       "  </thead>\n",
       "  <tbody>\n",
       "    <tr>\n",
       "      <td>1</td>\n",
       "      <td>7.242500</td>\n",
       "      <td>1.437500</td>\n",
       "      <td>8.680000</td>\n",
       "      <td>21.729202</td>\n",
       "    </tr>\n",
       "    <tr>\n",
       "      <td>2</td>\n",
       "      <td>16.448013</td>\n",
       "      <td>2.582308</td>\n",
       "      <td>19.030321</td>\n",
       "      <td>16.571919</td>\n",
       "    </tr>\n",
       "    <tr>\n",
       "      <td>3</td>\n",
       "      <td>23.277632</td>\n",
       "      <td>3.393158</td>\n",
       "      <td>26.670789</td>\n",
       "      <td>15.215685</td>\n",
       "    </tr>\n",
       "    <tr>\n",
       "      <td>4</td>\n",
       "      <td>28.613514</td>\n",
       "      <td>4.135405</td>\n",
       "      <td>32.748919</td>\n",
       "      <td>14.594901</td>\n",
       "    </tr>\n",
       "    <tr>\n",
       "      <td>5</td>\n",
       "      <td>30.068000</td>\n",
       "      <td>4.028000</td>\n",
       "      <td>34.096000</td>\n",
       "      <td>14.149549</td>\n",
       "    </tr>\n",
       "    <tr>\n",
       "      <td>6</td>\n",
       "      <td>34.830000</td>\n",
       "      <td>5.225000</td>\n",
       "      <td>40.055000</td>\n",
       "      <td>15.622920</td>\n",
       "    </tr>\n",
       "  </tbody>\n",
       "</table>\n",
       "</div>"
      ],
      "text/plain": [
       "      total_bill       tip  total_paid  tip_percent\n",
       "size                                               \n",
       "1       7.242500  1.437500    8.680000    21.729202\n",
       "2      16.448013  2.582308   19.030321    16.571919\n",
       "3      23.277632  3.393158   26.670789    15.215685\n",
       "4      28.613514  4.135405   32.748919    14.594901\n",
       "5      30.068000  4.028000   34.096000    14.149549\n",
       "6      34.830000  5.225000   40.055000    15.622920"
      ]
     },
     "execution_count": 14,
     "metadata": {},
     "output_type": "execute_result"
    }
   ],
   "source": [
    "# Mean values by group size.\n",
    "tips_df.groupby(\"size\").mean()"
   ]
  },
  {
   "cell_type": "markdown",
   "metadata": {},
   "source": [
    "<br>\n",
    "\n",
    "### Categorical Data\n",
    "\n",
    "The statistics for categorical data below shows that there are 2 unique values for the *sex* and *smoker* categories, Male/Felmale and Yes/No respectively, as one would expect for these categories. The data looks to be spread across 4 days of the week rather than the entire week, indicating that the server only worked certain days, and 2 mealtimes are assessed. Overall these categories demonstrate that the majority of bills were paid by non-smoking men and the server was busiest on Saturday at dinner time. Below I will take a closer look at the breakdown of each of these categories individually and touch on their relationship with the bill, tip and size variables."
   ]
  },
  {
   "cell_type": "code",
   "execution_count": 15,
   "metadata": {},
   "outputs": [
    {
     "data": {
      "text/html": [
       "<div>\n",
       "<style scoped>\n",
       "    .dataframe tbody tr th:only-of-type {\n",
       "        vertical-align: middle;\n",
       "    }\n",
       "\n",
       "    .dataframe tbody tr th {\n",
       "        vertical-align: top;\n",
       "    }\n",
       "\n",
       "    .dataframe thead th {\n",
       "        text-align: right;\n",
       "    }\n",
       "</style>\n",
       "<table border=\"1\" class=\"dataframe\">\n",
       "  <thead>\n",
       "    <tr style=\"text-align: right;\">\n",
       "      <th></th>\n",
       "      <th>sex</th>\n",
       "      <th>smoker</th>\n",
       "      <th>day</th>\n",
       "      <th>time</th>\n",
       "    </tr>\n",
       "  </thead>\n",
       "  <tbody>\n",
       "    <tr>\n",
       "      <td>count</td>\n",
       "      <td>244</td>\n",
       "      <td>244</td>\n",
       "      <td>244</td>\n",
       "      <td>244</td>\n",
       "    </tr>\n",
       "    <tr>\n",
       "      <td>unique</td>\n",
       "      <td>2</td>\n",
       "      <td>2</td>\n",
       "      <td>4</td>\n",
       "      <td>2</td>\n",
       "    </tr>\n",
       "    <tr>\n",
       "      <td>top</td>\n",
       "      <td>Male</td>\n",
       "      <td>No</td>\n",
       "      <td>Sat</td>\n",
       "      <td>Dinner</td>\n",
       "    </tr>\n",
       "    <tr>\n",
       "      <td>freq</td>\n",
       "      <td>157</td>\n",
       "      <td>151</td>\n",
       "      <td>87</td>\n",
       "      <td>176</td>\n",
       "    </tr>\n",
       "  </tbody>\n",
       "</table>\n",
       "</div>"
      ],
      "text/plain": [
       "         sex smoker  day    time\n",
       "count    244    244  244     244\n",
       "unique     2      2    4       2\n",
       "top     Male     No  Sat  Dinner\n",
       "freq     157    151   87     176"
      ]
     },
     "execution_count": 15,
     "metadata": {},
     "output_type": "execute_result"
    }
   ],
   "source": [
    "# Categorical statistics.\n",
    "categories = tips_df[['sex', 'smoker', 'day', 'time']]\n",
    "categories.describe()"
   ]
  },
  {
   "cell_type": "markdown",
   "metadata": {},
   "source": [
    "#### Sex\n",
    "This category records the sex of the person that paid the bill. The pie chart[<sup>4</sup>](https://stackoverflow.com/a/31499100) [<sup>5</sup>](https://matplotlib.org/3.1.1/gallery/pie_and_polar_charts/pie_features.html) below shows that men paid most bills at 64.3%, with women paying 35.7%.\n"
   ]
  },
  {
   "cell_type": "code",
   "execution_count": 16,
   "metadata": {},
   "outputs": [
    {
     "data": {
      "image/png": "[encoded data removed]",
      "text/plain": [
       "<Figure size 432x288 with 1 Axes>"
      ]
     },
     "metadata": {},
     "output_type": "display_data"
    }
   ],
   "source": [
    "# Pie chart showing percentage of men and women who paid the bill.\n",
    "sex = tips_df.groupby('sex').size()\n",
    "plt.pie(sex, labels=sex.index, radius=1.5, autopct='%1.1f%%')\n",
    "plt.show()"
   ]
  },
  {
   "cell_type": "markdown",
   "metadata": {},
   "source": [
    "The figures below show that the average total bill and tip amount paid by men is slightly higher than those paid by women with a \\\\$2.94 difference. However, even though the actual values are lower, it looks like women pay a slightly higher average tip percentage with 16.6\\% versus 15.8\\% paid by men. So it appears that, while substantially fewer women pay the bill and when they do it's generally a lower bill, that they are ever so slightly more proportionally generous with the tip percentage. There is very little difference in group size but men may be more likely to pay for marginally larger groups.  "
   ]
  },
  {
   "cell_type": "code",
   "execution_count": 17,
   "metadata": {},
   "outputs": [
    {
     "data": {
      "text/html": [
       "<div>\n",
       "<style scoped>\n",
       "    .dataframe tbody tr th:only-of-type {\n",
       "        vertical-align: middle;\n",
       "    }\n",
       "\n",
       "    .dataframe tbody tr th {\n",
       "        vertical-align: top;\n",
       "    }\n",
       "\n",
       "    .dataframe thead th {\n",
       "        text-align: right;\n",
       "    }\n",
       "</style>\n",
       "<table border=\"1\" class=\"dataframe\">\n",
       "  <thead>\n",
       "    <tr style=\"text-align: right;\">\n",
       "      <th></th>\n",
       "      <th>total_bill</th>\n",
       "      <th>tip</th>\n",
       "      <th>size</th>\n",
       "      <th>total_paid</th>\n",
       "      <th>tip_percent</th>\n",
       "    </tr>\n",
       "    <tr>\n",
       "      <th>sex</th>\n",
       "      <th></th>\n",
       "      <th></th>\n",
       "      <th></th>\n",
       "      <th></th>\n",
       "      <th></th>\n",
       "    </tr>\n",
       "  </thead>\n",
       "  <tbody>\n",
       "    <tr>\n",
       "      <td>Male</td>\n",
       "      <td>20.744076</td>\n",
       "      <td>3.089618</td>\n",
       "      <td>2.630573</td>\n",
       "      <td>23.833694</td>\n",
       "      <td>15.765055</td>\n",
       "    </tr>\n",
       "    <tr>\n",
       "      <td>Female</td>\n",
       "      <td>18.056897</td>\n",
       "      <td>2.833448</td>\n",
       "      <td>2.459770</td>\n",
       "      <td>20.890345</td>\n",
       "      <td>16.649074</td>\n",
       "    </tr>\n",
       "  </tbody>\n",
       "</table>\n",
       "</div>"
      ],
      "text/plain": [
       "        total_bill       tip      size  total_paid  tip_percent\n",
       "sex                                                            \n",
       "Male     20.744076  3.089618  2.630573   23.833694    15.765055\n",
       "Female   18.056897  2.833448  2.459770   20.890345    16.649074"
      ]
     },
     "execution_count": 17,
     "metadata": {},
     "output_type": "execute_result"
    }
   ],
   "source": [
    "# Mean figures by sex.\n",
    "tips_df.groupby(\"sex\").mean()"
   ]
  },
  {
   "cell_type": "markdown",
   "metadata": {},
   "source": [
    "<br>\n",
    "\n",
    "#### Smoker\n",
    "\n",
    "Being a restaurant in 1990s America, this establishment offered smoking and non-smoking sections. The variable *smoker* denotes the section where a party was seated rather than the habits of the paying customer. The chart below shows that 61.9\\% opted to sit in the non-smoking section while 38.1\\% sat in the smoking section."
   ]
  },
  {
   "cell_type": "code",
   "execution_count": 18,
   "metadata": {},
   "outputs": [
    {
     "data": {
      "image/png": "[encoded data removed]",
      "text/plain": [
       "<Figure size 432x288 with 1 Axes>"
      ]
     },
     "metadata": {},
     "output_type": "display_data"
    }
   ],
   "source": [
    "# Pie chart showing the percentage in smoking and non-smoking sections. \n",
    "smoker = tips_df.groupby('smoker').size()\n",
    "plt.pie(smoker, labels=smoker.index, radius=1.5, autopct='%1.1f%%')\n",
    "plt.show()"
   ]
  },
  {
   "cell_type": "markdown",
   "metadata": {},
   "source": [
    "There does not seem to be much difference between customers that sit in the smoking section versus those that sit in the non-smoking section. Smokers appear to spend slightly more and tip a little better on average than non-smokers, but the difference is not substantial at only 0.39\\%. The group sizes in non-smoking sections seem to be marginally larger than those in smoking sections."
   ]
  },
  {
   "cell_type": "code",
   "execution_count": 19,
   "metadata": {},
   "outputs": [
    {
     "data": {
      "text/html": [
       "<div>\n",
       "<style scoped>\n",
       "    .dataframe tbody tr th:only-of-type {\n",
       "        vertical-align: middle;\n",
       "    }\n",
       "\n",
       "    .dataframe tbody tr th {\n",
       "        vertical-align: top;\n",
       "    }\n",
       "\n",
       "    .dataframe thead th {\n",
       "        text-align: right;\n",
       "    }\n",
       "</style>\n",
       "<table border=\"1\" class=\"dataframe\">\n",
       "  <thead>\n",
       "    <tr style=\"text-align: right;\">\n",
       "      <th></th>\n",
       "      <th>total_bill</th>\n",
       "      <th>tip</th>\n",
       "      <th>size</th>\n",
       "      <th>total_paid</th>\n",
       "      <th>tip_percent</th>\n",
       "    </tr>\n",
       "    <tr>\n",
       "      <th>smoker</th>\n",
       "      <th></th>\n",
       "      <th></th>\n",
       "      <th></th>\n",
       "      <th></th>\n",
       "      <th></th>\n",
       "    </tr>\n",
       "  </thead>\n",
       "  <tbody>\n",
       "    <tr>\n",
       "      <td>Yes</td>\n",
       "      <td>20.756344</td>\n",
       "      <td>3.008710</td>\n",
       "      <td>2.408602</td>\n",
       "      <td>23.765054</td>\n",
       "      <td>16.319604</td>\n",
       "    </tr>\n",
       "    <tr>\n",
       "      <td>No</td>\n",
       "      <td>19.188278</td>\n",
       "      <td>2.991854</td>\n",
       "      <td>2.668874</td>\n",
       "      <td>22.180132</td>\n",
       "      <td>15.932846</td>\n",
       "    </tr>\n",
       "  </tbody>\n",
       "</table>\n",
       "</div>"
      ],
      "text/plain": [
       "        total_bill       tip      size  total_paid  tip_percent\n",
       "smoker                                                         \n",
       "Yes      20.756344  3.008710  2.408602   23.765054    16.319604\n",
       "No       19.188278  2.991854  2.668874   22.180132    15.932846"
      ]
     },
     "execution_count": 19,
     "metadata": {},
     "output_type": "execute_result"
    }
   ],
   "source": [
    "# Mean figures by smoker.\n",
    "tips_df.groupby('smoker').mean()"
   ]
  },
  {
   "cell_type": "markdown",
   "metadata": {},
   "source": [
    "<br>\n",
    "\n",
    "#### Day\n",
    "\n",
    "During the time this dataset was put together, the server works 4 days of the week, Thursday - Sunday inclusive. However, it appears very little of their time was spent working Fridays. Perhaps they swapped a couple of shifts with a co-worker or maybe the schedule sometimes switches them between Thursday and Friday. We could maybe speculate that the person actually works 3 days per week, one weekday and all weekend, as the pie chart below could almost be split into thirds. Saturday is the busiest day for the worker accounting for 35.7\\% of customers, followed by Sunday at 31.1\\%, Thursday at 25.4\\% and finally Friday which only accounts for 7.8\\% of customers."
   ]
  },
  {
   "cell_type": "code",
   "execution_count": 20,
   "metadata": {},
   "outputs": [
    {
     "data": {
      "image/png": "[encoded data removed]",
      "text/plain": [
       "<Figure size 432x288 with 1 Axes>"
      ]
     },
     "metadata": {},
     "output_type": "display_data"
    }
   ],
   "source": [
    "# Pie chart showing percentage of entries by day.\n",
    "day = tips_df.groupby('day').size()\n",
    "plt.pie(day, labels=day.index, radius=1.5, autopct='%1.1f%%')\n",
    "plt.show()"
   ]
  },
  {
   "cell_type": "markdown",
   "metadata": {},
   "source": [
    "The average total amount paid by customers is higher on the weekend, which, as the figures above show, is the busiest time for the server. Group size also tends to be larger on weekends, being closer to 2 people on average for Thursday and Friday and closer to 3 people on Saturday and Sunday. However, whether the restaurant itself is actually busier or the server works longer shifts on the weekends cannot be established with the information available in this dataset. \n",
    "\n",
    "What might be interesting is that on their busiest day, Saturday, the average tip percentage is the lowest of all 4 days at 15.3\\%, while it exceeds 16\\% every other day. Perhaps the server finds themselves a bit overwhelmed when the restaurant is very busy and their customer service suffers slightly, which could affect the tip. Also interesting is that the quietest day, Friday, accounts for the lowest total amount paid and yet the highest tip percentage at nearly 17% so maybe this accounts for the inverse, that the server has the time to be especially attentive to their customers. However, the amount of data available for Friday is too low to make such assumptions. "
   ]
  },
  {
   "cell_type": "code",
   "execution_count": 21,
   "metadata": {},
   "outputs": [
    {
     "data": {
      "text/html": [
       "<div>\n",
       "<style scoped>\n",
       "    .dataframe tbody tr th:only-of-type {\n",
       "        vertical-align: middle;\n",
       "    }\n",
       "\n",
       "    .dataframe tbody tr th {\n",
       "        vertical-align: top;\n",
       "    }\n",
       "\n",
       "    .dataframe thead th {\n",
       "        text-align: right;\n",
       "    }\n",
       "</style>\n",
       "<table border=\"1\" class=\"dataframe\">\n",
       "  <thead>\n",
       "    <tr style=\"text-align: right;\">\n",
       "      <th></th>\n",
       "      <th>total_bill</th>\n",
       "      <th>tip</th>\n",
       "      <th>size</th>\n",
       "      <th>total_paid</th>\n",
       "      <th>tip_percent</th>\n",
       "    </tr>\n",
       "    <tr>\n",
       "      <th>day</th>\n",
       "      <th></th>\n",
       "      <th></th>\n",
       "      <th></th>\n",
       "      <th></th>\n",
       "      <th></th>\n",
       "    </tr>\n",
       "  </thead>\n",
       "  <tbody>\n",
       "    <tr>\n",
       "      <td>Thur</td>\n",
       "      <td>17.682742</td>\n",
       "      <td>2.771452</td>\n",
       "      <td>2.451613</td>\n",
       "      <td>20.454194</td>\n",
       "      <td>16.127563</td>\n",
       "    </tr>\n",
       "    <tr>\n",
       "      <td>Fri</td>\n",
       "      <td>17.151579</td>\n",
       "      <td>2.734737</td>\n",
       "      <td>2.105263</td>\n",
       "      <td>19.886316</td>\n",
       "      <td>16.991303</td>\n",
       "    </tr>\n",
       "    <tr>\n",
       "      <td>Sat</td>\n",
       "      <td>20.441379</td>\n",
       "      <td>2.993103</td>\n",
       "      <td>2.517241</td>\n",
       "      <td>23.434483</td>\n",
       "      <td>15.315172</td>\n",
       "    </tr>\n",
       "    <tr>\n",
       "      <td>Sun</td>\n",
       "      <td>21.410000</td>\n",
       "      <td>3.255132</td>\n",
       "      <td>2.842105</td>\n",
       "      <td>24.665132</td>\n",
       "      <td>16.689729</td>\n",
       "    </tr>\n",
       "  </tbody>\n",
       "</table>\n",
       "</div>"
      ],
      "text/plain": [
       "      total_bill       tip      size  total_paid  tip_percent\n",
       "day                                                          \n",
       "Thur   17.682742  2.771452  2.451613   20.454194    16.127563\n",
       "Fri    17.151579  2.734737  2.105263   19.886316    16.991303\n",
       "Sat    20.441379  2.993103  2.517241   23.434483    15.315172\n",
       "Sun    21.410000  3.255132  2.842105   24.665132    16.689729"
      ]
     },
     "execution_count": 21,
     "metadata": {},
     "output_type": "execute_result"
    }
   ],
   "source": [
    "# Mean figures by day.\n",
    "tips_df.groupby('day').mean()"
   ]
  },
  {
   "cell_type": "markdown",
   "metadata": {},
   "source": [
    "<br>\n",
    "\n",
    "#### Time\n",
    "\n",
    "This variable accounts for 2 mealtimes: Lunch and Dinner. The majority of the server's shifts look to be scheduled for dinner time with 72.1\\% of values versus just 27.9\\% for lunch."
   ]
  },
  {
   "cell_type": "code",
   "execution_count": 22,
   "metadata": {},
   "outputs": [
    {
     "data": {
      "image/png": "[encoded data removed]",
      "text/plain": [
       "<Figure size 432x288 with 1 Axes>"
      ]
     },
     "metadata": {},
     "output_type": "display_data"
    }
   ],
   "source": [
    "# Pie chart showing percentage of entries by meal time.\n",
    "time = tips_df.groupby('time').size()\n",
    "plt.pie(time, labels=time.index, radius=1.5, autopct='%1.1f%%')\n",
    "plt.show()"
   ]
  },
  {
   "cell_type": "markdown",
   "metadata": {},
   "source": [
    "As might be expected, the customers at this restaurant generally spend more on dinner than lunch with a difference of \\\\$4.00 in total amount paid. However, while the bill and tip values are higher, the actual tip percentage is slightly lower with lunchtime patrons tipping 16.41\\% compared to dinner patron's 15.95\\%. There is not much difference in group size, but dinner time may tend to have larger groups than lunch time - could this difference in group size be affecting tips? This will be explored further in another section."
   ]
  },
  {
   "cell_type": "code",
   "execution_count": 23,
   "metadata": {},
   "outputs": [
    {
     "data": {
      "text/html": [
       "<div>\n",
       "<style scoped>\n",
       "    .dataframe tbody tr th:only-of-type {\n",
       "        vertical-align: middle;\n",
       "    }\n",
       "\n",
       "    .dataframe tbody tr th {\n",
       "        vertical-align: top;\n",
       "    }\n",
       "\n",
       "    .dataframe thead th {\n",
       "        text-align: right;\n",
       "    }\n",
       "</style>\n",
       "<table border=\"1\" class=\"dataframe\">\n",
       "  <thead>\n",
       "    <tr style=\"text-align: right;\">\n",
       "      <th></th>\n",
       "      <th>total_bill</th>\n",
       "      <th>tip</th>\n",
       "      <th>size</th>\n",
       "      <th>total_paid</th>\n",
       "      <th>tip_percent</th>\n",
       "    </tr>\n",
       "    <tr>\n",
       "      <th>time</th>\n",
       "      <th></th>\n",
       "      <th></th>\n",
       "      <th></th>\n",
       "      <th></th>\n",
       "      <th></th>\n",
       "    </tr>\n",
       "  </thead>\n",
       "  <tbody>\n",
       "    <tr>\n",
       "      <td>Lunch</td>\n",
       "      <td>17.168676</td>\n",
       "      <td>2.728088</td>\n",
       "      <td>2.411765</td>\n",
       "      <td>19.896765</td>\n",
       "      <td>16.412793</td>\n",
       "    </tr>\n",
       "    <tr>\n",
       "      <td>Dinner</td>\n",
       "      <td>20.797159</td>\n",
       "      <td>3.102670</td>\n",
       "      <td>2.630682</td>\n",
       "      <td>23.899830</td>\n",
       "      <td>15.951779</td>\n",
       "    </tr>\n",
       "  </tbody>\n",
       "</table>\n",
       "</div>"
      ],
      "text/plain": [
       "        total_bill       tip      size  total_paid  tip_percent\n",
       "time                                                           \n",
       "Lunch    17.168676  2.728088  2.411765   19.896765    16.412793\n",
       "Dinner   20.797159  3.102670  2.630682   23.899830    15.951779"
      ]
     },
     "execution_count": 23,
     "metadata": {},
     "output_type": "execute_result"
    }
   ],
   "source": [
    "# Mean figures by time.\n",
    "tips_df.groupby('time').mean()"
   ]
  },
  {
   "cell_type": "markdown",
   "metadata": {},
   "source": [
    "<br>\n",
    "\n",
    "## Relationship Between Tip and Total Bill\n",
    "\n",
    "The focus of the tips dataset is, of course, the tip amount. Presumably the server wanted to see what variables affected how much they were tipped by customers. It might be expected that there is a strong relationship between the tip and the bill, given that a tip is generally calculated as a certain percentage of the bill, maybe 15%-20% depending on where you live. And indeed, looking at the correlation below, (https://dfrieds.com/math/correlation) which has a Pearson r value of 0.67, indicating quite a strong positive relationship (https://www.statisticssolutions.com/pearsons-correlation-coefficient/) between the total bill and the tip, i.e. as bills get higher, tips tends to grow also. "
   ]
  },
  {
   "cell_type": "code",
   "execution_count": 24,
   "metadata": {},
   "outputs": [
    {
     "data": {
      "text/html": [
       "<div>\n",
       "<style scoped>\n",
       "    .dataframe tbody tr th:only-of-type {\n",
       "        vertical-align: middle;\n",
       "    }\n",
       "\n",
       "    .dataframe tbody tr th {\n",
       "        vertical-align: top;\n",
       "    }\n",
       "\n",
       "    .dataframe thead th {\n",
       "        text-align: right;\n",
       "    }\n",
       "</style>\n",
       "<table border=\"1\" class=\"dataframe\">\n",
       "  <thead>\n",
       "    <tr style=\"text-align: right;\">\n",
       "      <th></th>\n",
       "      <th>tip</th>\n",
       "      <th>total_bill</th>\n",
       "    </tr>\n",
       "  </thead>\n",
       "  <tbody>\n",
       "    <tr>\n",
       "      <td>tip</td>\n",
       "      <td>1.000000</td>\n",
       "      <td>0.675734</td>\n",
       "    </tr>\n",
       "    <tr>\n",
       "      <td>total_bill</td>\n",
       "      <td>0.675734</td>\n",
       "      <td>1.000000</td>\n",
       "    </tr>\n",
       "  </tbody>\n",
       "</table>\n",
       "</div>"
      ],
      "text/plain": [
       "                 tip  total_bill\n",
       "tip         1.000000    0.675734\n",
       "total_bill  0.675734    1.000000"
      ]
     },
     "execution_count": 24,
     "metadata": {},
     "output_type": "execute_result"
    }
   ],
   "source": [
    "# Calculating the correlation between tip and bill\n",
    "tips_df[['tip', 'total_bill']].corr()"
   ]
  },
  {
   "cell_type": "markdown",
   "metadata": {},
   "source": [
    "Visualising this relationship below (https://towardsdatascience.com/analyze-the-data-through-data-visualization-using-seaborn-255e1cd3948e) does demonstrate a largely upwards linear trend, although it certainly gets more dispersed when bills go above about \\\\$30 but this is related to the relatively few bills in the higher value bracket. To determine the extent of this linear relationship, I will perform a regression analysis below. "
   ]
  },
  {
   "cell_type": "code",
   "execution_count": 25,
   "metadata": {},
   "outputs": [
    {
     "data": {
      "image/png": "[encoded data removed]",
      "text/plain": [
       "<Figure size 360x360 with 1 Axes>"
      ]
     },
     "metadata": {
      "needs_background": "light"
     },
     "output_type": "display_data"
    }
   ],
   "source": [
    "# Plotting total_bill and tip.\n",
    "sns.relplot(x=\"total_bill\", y=\"tip\", data=tips_df)\n",
    "plt.show()"
   ]
  },
  {
   "cell_type": "markdown",
   "metadata": {},
   "source": [
    "<br>\n",
    "\n",
    "### Linear Regression\n",
    "\n",
    "Linear regression is a type of predictive analysis that can assess whether there is a linear relationship between a dependent variable and one or more independent variables. With the tips dataset, I will use linear regression to see if tips (dependent variable) can be predicted based on the total bill amount (independent variable). It is possible to build a linear regression model using all variables of the dataset as they relate to tips (https://devarea.com/python-machine-learning-example-linear-regression/#.Xdqeb-j7RPZ) but for the purposes of the current investigation I am focusing on the relationship specifically between the total bill and tips. There are several options available in Python that perform linear regression such as PyTorch(https://analyticsindiamag.com/introductory-guide-to-pytorch-using-a-linear-regression-problem/) or statsmodels (https://www.statsmodels.org/stable/regression.html) but I find scikit-learn to be a powerful, straightforward tool. I largely based my analysis on a mixture of two similar linear regression models that I found to be well laid-out and explained but also accessible to a novice like me (https://towardsdatascience.com/a-beginners-guide-to-linear-regression-in-python-with-scikit-learn-83a8f7ae2b4f) (https://realpython.com/linear-regression-in-python/)\n",
    "\n",
    "This one was too complex for me to follow https://medium.com/@shairozsohail/a-comprehensive-introduction-to-linear-regression-341b9bfcd02d"
   ]
  },
  {
   "cell_type": "markdown",
   "metadata": {},
   "source": [
    "First the variables required are defined:\n",
    "\n",
    "- *X* contains the independent variable, the column *total_bill*.\n",
    "- *y* contains the dependent variable, the column *tip*.\n",
    "\n",
    "The pandas series that results when these columns are selected from the dataset below need to be reshaped as 2D numpy arrays to work with the model. (https://realpython.com/linear-regression-in-python/)   "
   ]
  },
  {
   "cell_type": "code",
   "execution_count": 26,
   "metadata": {},
   "outputs": [],
   "source": [
    "# Defining variables.\n",
    "X = tips_df['total_bill'].values.reshape(-1,1)\n",
    "y = tips_df['tip'].values.reshape(-1,1)"
   ]
  },
  {
   "cell_type": "markdown",
   "metadata": {},
   "source": [
    "Next the data is split into training and testing sets. The training sets, as the name suggests, train and build the model while the test sets are used to check the accuracy of the model that was generated. Below the data is split into 80% for training (*X_train* and *y_train*) and 20% for testing (*X_test* and *y_test*) as this is generally considered to be a good ratio for a such models. (https://stackoverflow.com/a/13612921) This is determined by the *test_size* argument below set to 0.2. The *random_state* can be set to any integer and allows for reproducibility as the same values will be randomly chosen for testing and training each time the code is run.  "
   ]
  },
  {
   "cell_type": "code",
   "execution_count": 27,
   "metadata": {},
   "outputs": [
    {
     "name": "stdout",
     "output_type": "stream",
     "text": [
      "(195, 1) (49, 1) (195, 1) (49, 1)\n"
     ]
    }
   ],
   "source": [
    "# Splitting data into training and testing variables.\n",
    "X_train, X_test, y_train, y_test = train_test_split(X, y, test_size = 0.2, random_state = 10)\n",
    "\n",
    "# The sizes of each training and testing variable.\n",
    "print(X_train.shape, X_test.shape, y_train.shape, y_test.shape)"
   ]
  },
  {
   "cell_type": "markdown",
   "metadata": {},
   "source": [
    "The training variables can now be used to train the linear regression model by passing them through the *fit* function."
   ]
  },
  {
   "cell_type": "code",
   "execution_count": 28,
   "metadata": {},
   "outputs": [],
   "source": [
    "# Training the model.\n",
    "reg = LinearRegression()\n",
    "model = reg.fit(X_train, y_train)"
   ]
  },
  {
   "cell_type": "markdown",
   "metadata": {},
   "source": [
    "The *fit* function attempts to find the line that best fits the plot points created by the data in the training sets. It does this by identifying the best values for the intercept and the slope of the line. The values created by this model are shown below. \n",
    "\n",
    "The intercept is the location where the line intersects the axis representing the mean value of y (*tip*) when x=0. If the x value (*total_bill*) is never 0 then this figure is not relevant to the relationship between x and y. Since none of the bill amounts in this dataset are 0, the intercept value is not descriptive of the relationship but is still required to create a linear regression model. (https://www.theanalysisfactor.com/interpreting-the-intercept-in-a-regression-model/)   \n",
    "\n",
    "The slope figure represents the steepness of the line and here tells us that every dollar increase in the bill amount is associated with approximately a \\\\$0.1089 increase in tips. (https://www.ritchieng.com/machine-learning-evaluate-linear-regression-model/)"
   ]
  },
  {
   "cell_type": "code",
   "execution_count": 29,
   "metadata": {},
   "outputs": [
    {
     "name": "stdout",
     "output_type": "stream",
     "text": [
      "Slope: [[0.10892852]]\n"
     ]
    }
   ],
   "source": [
    "# Slope of the line created by the model.\n",
    "print(\"Slope:\",  reg.coef_)"
   ]
  },
  {
   "cell_type": "markdown",
   "metadata": {},
   "source": [
    "Now the model has been trained, the test sets can be used to see how accurately the algorithm can predict tips. Below the total bill values in *X_test* are put through the *predict* function, which will make tip predictions based on them. The results of this are then printed beside the actual tip amounts that are in the *y_test* variable.   "
   ]
  },
  {
   "cell_type": "code",
   "execution_count": 30,
   "metadata": {},
   "outputs": [
    {
     "data": {
      "text/html": [
       "<div>\n",
       "<style scoped>\n",
       "    .dataframe tbody tr th:only-of-type {\n",
       "        vertical-align: middle;\n",
       "    }\n",
       "\n",
       "    .dataframe tbody tr th {\n",
       "        vertical-align: top;\n",
       "    }\n",
       "\n",
       "    .dataframe thead th {\n",
       "        text-align: right;\n",
       "    }\n",
       "</style>\n",
       "<table border=\"1\" class=\"dataframe\">\n",
       "  <thead>\n",
       "    <tr style=\"text-align: right;\">\n",
       "      <th></th>\n",
       "      <th>Actual</th>\n",
       "      <th>Predicted</th>\n",
       "    </tr>\n",
       "  </thead>\n",
       "  <tbody>\n",
       "    <tr>\n",
       "      <td>0</td>\n",
       "      <td>2.00</td>\n",
       "      <td>2.611890</td>\n",
       "    </tr>\n",
       "    <tr>\n",
       "      <td>1</td>\n",
       "      <td>3.21</td>\n",
       "      <td>3.056318</td>\n",
       "    </tr>\n",
       "    <tr>\n",
       "      <td>2</td>\n",
       "      <td>2.00</td>\n",
       "      <td>2.350462</td>\n",
       "    </tr>\n",
       "    <tr>\n",
       "      <td>3</td>\n",
       "      <td>3.76</td>\n",
       "      <td>2.838461</td>\n",
       "    </tr>\n",
       "    <tr>\n",
       "      <td>4</td>\n",
       "      <td>2.09</td>\n",
       "      <td>2.481176</td>\n",
       "    </tr>\n",
       "    <tr>\n",
       "      <td>5</td>\n",
       "      <td>5.00</td>\n",
       "      <td>4.405943</td>\n",
       "    </tr>\n",
       "    <tr>\n",
       "      <td>6</td>\n",
       "      <td>3.51</td>\n",
       "      <td>2.969176</td>\n",
       "    </tr>\n",
       "    <tr>\n",
       "      <td>7</td>\n",
       "      <td>5.16</td>\n",
       "      <td>3.666318</td>\n",
       "    </tr>\n",
       "    <tr>\n",
       "      <td>8</td>\n",
       "      <td>5.00</td>\n",
       "      <td>3.267640</td>\n",
       "    </tr>\n",
       "    <tr>\n",
       "      <td>9</td>\n",
       "      <td>3.60</td>\n",
       "      <td>3.466979</td>\n",
       "    </tr>\n",
       "    <tr>\n",
       "      <td>10</td>\n",
       "      <td>5.65</td>\n",
       "      <td>3.387461</td>\n",
       "    </tr>\n",
       "    <tr>\n",
       "      <td>11</td>\n",
       "      <td>2.50</td>\n",
       "      <td>5.671692</td>\n",
       "    </tr>\n",
       "    <tr>\n",
       "      <td>12</td>\n",
       "      <td>1.44</td>\n",
       "      <td>1.669658</td>\n",
       "    </tr>\n",
       "    <tr>\n",
       "      <td>13</td>\n",
       "      <td>3.09</td>\n",
       "      <td>4.129264</td>\n",
       "    </tr>\n",
       "    <tr>\n",
       "      <td>14</td>\n",
       "      <td>2.00</td>\n",
       "      <td>2.642390</td>\n",
       "    </tr>\n",
       "    <tr>\n",
       "      <td>15</td>\n",
       "      <td>1.36</td>\n",
       "      <td>2.876586</td>\n",
       "    </tr>\n",
       "    <tr>\n",
       "      <td>16</td>\n",
       "      <td>2.00</td>\n",
       "      <td>2.427801</td>\n",
       "    </tr>\n",
       "    <tr>\n",
       "      <td>17</td>\n",
       "      <td>1.68</td>\n",
       "      <td>2.307980</td>\n",
       "    </tr>\n",
       "    <tr>\n",
       "      <td>18</td>\n",
       "      <td>3.50</td>\n",
       "      <td>3.122765</td>\n",
       "    </tr>\n",
       "    <tr>\n",
       "      <td>19</td>\n",
       "      <td>3.16</td>\n",
       "      <td>2.568319</td>\n",
       "    </tr>\n",
       "    <tr>\n",
       "      <td>20</td>\n",
       "      <td>1.71</td>\n",
       "      <td>1.964855</td>\n",
       "    </tr>\n",
       "    <tr>\n",
       "      <td>21</td>\n",
       "      <td>2.50</td>\n",
       "      <td>2.291640</td>\n",
       "    </tr>\n",
       "    <tr>\n",
       "      <td>22</td>\n",
       "      <td>2.00</td>\n",
       "      <td>2.302533</td>\n",
       "    </tr>\n",
       "    <tr>\n",
       "      <td>23</td>\n",
       "      <td>1.63</td>\n",
       "      <td>2.139140</td>\n",
       "    </tr>\n",
       "    <tr>\n",
       "      <td>24</td>\n",
       "      <td>5.00</td>\n",
       "      <td>3.099890</td>\n",
       "    </tr>\n",
       "    <tr>\n",
       "      <td>25</td>\n",
       "      <td>2.00</td>\n",
       "      <td>1.971390</td>\n",
       "    </tr>\n",
       "    <tr>\n",
       "      <td>26</td>\n",
       "      <td>3.08</td>\n",
       "      <td>2.798158</td>\n",
       "    </tr>\n",
       "    <tr>\n",
       "      <td>27</td>\n",
       "      <td>2.92</td>\n",
       "      <td>3.469158</td>\n",
       "    </tr>\n",
       "    <tr>\n",
       "      <td>28</td>\n",
       "      <td>2.31</td>\n",
       "      <td>2.119533</td>\n",
       "    </tr>\n",
       "    <tr>\n",
       "      <td>29</td>\n",
       "      <td>6.73</td>\n",
       "      <td>6.104138</td>\n",
       "    </tr>\n",
       "    <tr>\n",
       "      <td>30</td>\n",
       "      <td>5.07</td>\n",
       "      <td>4.106389</td>\n",
       "    </tr>\n",
       "    <tr>\n",
       "      <td>31</td>\n",
       "      <td>6.50</td>\n",
       "      <td>3.914675</td>\n",
       "    </tr>\n",
       "    <tr>\n",
       "      <td>32</td>\n",
       "      <td>2.00</td>\n",
       "      <td>1.801462</td>\n",
       "    </tr>\n",
       "    <tr>\n",
       "      <td>33</td>\n",
       "      <td>2.50</td>\n",
       "      <td>2.225194</td>\n",
       "    </tr>\n",
       "    <tr>\n",
       "      <td>34</td>\n",
       "      <td>3.18</td>\n",
       "      <td>3.005122</td>\n",
       "    </tr>\n",
       "    <tr>\n",
       "      <td>35</td>\n",
       "      <td>1.10</td>\n",
       "      <td>2.251337</td>\n",
       "    </tr>\n",
       "    <tr>\n",
       "      <td>36</td>\n",
       "      <td>3.35</td>\n",
       "      <td>3.095533</td>\n",
       "    </tr>\n",
       "    <tr>\n",
       "      <td>37</td>\n",
       "      <td>2.20</td>\n",
       "      <td>2.170730</td>\n",
       "    </tr>\n",
       "    <tr>\n",
       "      <td>38</td>\n",
       "      <td>4.06</td>\n",
       "      <td>3.078104</td>\n",
       "    </tr>\n",
       "    <tr>\n",
       "      <td>39</td>\n",
       "      <td>3.00</td>\n",
       "      <td>4.986532</td>\n",
       "    </tr>\n",
       "    <tr>\n",
       "      <td>40</td>\n",
       "      <td>3.00</td>\n",
       "      <td>2.963729</td>\n",
       "    </tr>\n",
       "    <tr>\n",
       "      <td>41</td>\n",
       "      <td>3.50</td>\n",
       "      <td>5.786067</td>\n",
       "    </tr>\n",
       "    <tr>\n",
       "      <td>42</td>\n",
       "      <td>1.50</td>\n",
       "      <td>2.062890</td>\n",
       "    </tr>\n",
       "    <tr>\n",
       "      <td>43</td>\n",
       "      <td>3.00</td>\n",
       "      <td>3.912497</td>\n",
       "    </tr>\n",
       "    <tr>\n",
       "      <td>44</td>\n",
       "      <td>2.00</td>\n",
       "      <td>2.262230</td>\n",
       "    </tr>\n",
       "    <tr>\n",
       "      <td>45</td>\n",
       "      <td>1.97</td>\n",
       "      <td>2.155480</td>\n",
       "    </tr>\n",
       "    <tr>\n",
       "      <td>46</td>\n",
       "      <td>3.50</td>\n",
       "      <td>3.295961</td>\n",
       "    </tr>\n",
       "    <tr>\n",
       "      <td>47</td>\n",
       "      <td>2.00</td>\n",
       "      <td>2.350462</td>\n",
       "    </tr>\n",
       "    <tr>\n",
       "      <td>48</td>\n",
       "      <td>1.73</td>\n",
       "      <td>1.911480</td>\n",
       "    </tr>\n",
       "  </tbody>\n",
       "</table>\n",
       "</div>"
      ],
      "text/plain": [
       "    Actual  Predicted\n",
       "0     2.00   2.611890\n",
       "1     3.21   3.056318\n",
       "2     2.00   2.350462\n",
       "3     3.76   2.838461\n",
       "4     2.09   2.481176\n",
       "5     5.00   4.405943\n",
       "6     3.51   2.969176\n",
       "7     5.16   3.666318\n",
       "8     5.00   3.267640\n",
       "9     3.60   3.466979\n",
       "10    5.65   3.387461\n",
       "11    2.50   5.671692\n",
       "12    1.44   1.669658\n",
       "13    3.09   4.129264\n",
       "14    2.00   2.642390\n",
       "15    1.36   2.876586\n",
       "16    2.00   2.427801\n",
       "17    1.68   2.307980\n",
       "18    3.50   3.122765\n",
       "19    3.16   2.568319\n",
       "20    1.71   1.964855\n",
       "21    2.50   2.291640\n",
       "22    2.00   2.302533\n",
       "23    1.63   2.139140\n",
       "24    5.00   3.099890\n",
       "25    2.00   1.971390\n",
       "26    3.08   2.798158\n",
       "27    2.92   3.469158\n",
       "28    2.31   2.119533\n",
       "29    6.73   6.104138\n",
       "30    5.07   4.106389\n",
       "31    6.50   3.914675\n",
       "32    2.00   1.801462\n",
       "33    2.50   2.225194\n",
       "34    3.18   3.005122\n",
       "35    1.10   2.251337\n",
       "36    3.35   3.095533\n",
       "37    2.20   2.170730\n",
       "38    4.06   3.078104\n",
       "39    3.00   4.986532\n",
       "40    3.00   2.963729\n",
       "41    3.50   5.786067\n",
       "42    1.50   2.062890\n",
       "43    3.00   3.912497\n",
       "44    2.00   2.262230\n",
       "45    1.97   2.155480\n",
       "46    3.50   3.295961\n",
       "47    2.00   2.350462\n",
       "48    1.73   1.911480"
      ]
     },
     "execution_count": 30,
     "metadata": {},
     "output_type": "execute_result"
    }
   ],
   "source": [
    "# Predicting tip values based on total bill values.\n",
    "y_pred = reg.predict(X_test)\n",
    "\n",
    "# Comparing predictions against acutal values.\n",
    "test_model = pd.DataFrame({'Actual': y_test.flatten(), 'Predicted': y_pred.flatten()})\n",
    "test_model"
   ]
  },
  {
   "cell_type": "markdown",
   "metadata": {},
   "source": [
    "Plotting the actual and predicted tip amounts side-by-side helps to visualise the model. While there are many predicted values that look quite close to the actual value, there are several that look to be highly over or underestimated.  "
   ]
  },
  {
   "cell_type": "code",
   "execution_count": 31,
   "metadata": {},
   "outputs": [
    {
     "data": {
      "image/png": "[encoded data removed]",
      "text/plain": [
       "<Figure size 864x432 with 1 Axes>"
      ]
     },
     "metadata": {
      "needs_background": "light"
     },
     "output_type": "display_data"
    }
   ],
   "source": [
    "# Plotting the predicted versus actual tip values.\n",
    "test_model.plot(kind='bar',figsize=(12, 6))\n",
    "plt.show()"
   ]
  },
  {
   "cell_type": "markdown",
   "metadata": {},
   "source": [
    "The plot below then shows the line created by this linear regression model over the tip and total_bill data points and visually seems to be quite a good estimation. "
   ]
  },
  {
   "cell_type": "code",
   "execution_count": 32,
   "metadata": {},
   "outputs": [
    {
     "data": {
      "image/png": "[encoded data removed]",
      "text/plain": [
       "<Figure size 432x288 with 1 Axes>"
      ]
     },
     "metadata": {
      "needs_background": "light"
     },
     "output_type": "display_data"
    }
   ],
   "source": [
    "# Lining the model up with the actual tip and total bill data.\n",
    "plt.scatter(tips_df.total_bill, tips_df.tip, marker='.', c='blue')\n",
    "plt.plot(X_test, y_pred, color='red', linewidth=1)\n",
    "plt.show()"
   ]
  },
  {
   "cell_type": "markdown",
   "metadata": {},
   "source": [
    "To evaluate the performance of the model, there are several metrics that can be used but I decided to select the following as I think they are most relevant to this simple regression model: (https://towardsdatascience.com/how-to-select-the-right-evaluation-metric-for-machine-learning-models-part-1-regrression-metrics-3606e25beae0): \n",
    "\n",
    "- Mean Absolute Error\n",
    "- Mean Squared Error\n",
    "- R<sup>2</sup>\n",
    "\n",
    "The mean absolute error (MAE) and mean squared error (MSE) evaluate the differences between the predicted values and the actual values by calculating the magnitude of the error. Below the MAE is \\\\$0.74 and the MSE is \\\\$1.08, meaning there is a difference of \\\\$0.34. The MAE is less sensitive to outliers,(https://towardsdatascience.com/how-to-select-the-right-evaluation-metric-for-machine-learning-models-part-1-regrression-metrics-3606e25beae0) and so may be the better indicator in this case as there are a number of apparent outliers in this data, particularly with how dispersed the scatter plot gets with the low amount of high value bills. So it could be said that the tip predictions in this model are off by an average of \\\\$0.74.\n",
    "\n",
    "The coefficient of determination, also know as the \"goodness of fit\" or R<sup>2</sup>, may be a better metric for this model. This score explains how much the variability of one factor (tip) can be caused by its relationship with another (total bill). (https://www.investopedia.com/terms/c/coefficient-of-determination.asp) The closer this score is to 1.0 (which would indicate a perfect fit), the better the relationship between the two variables. In this case, a R<sup>2</sup> score of 0.3968 indicates a moderate relationship, meaning that about 40\\% of tips can be predicted by the total bill in this model. "
   ]
  },
  {
   "cell_type": "code",
   "execution_count": 33,
   "metadata": {},
   "outputs": [
    {
     "name": "stdout",
     "output_type": "stream",
     "text": [
      "Mean Absolute Error: 0.7396434493591114\n",
      "Mean Squared Error: 1.0842599219998006\n",
      "R-squared: 0.39685396763314273\n"
     ]
    }
   ],
   "source": [
    "# Evaluating the performance of the algorithm\n",
    "print('Mean Absolute Error:', metrics.mean_absolute_error(y_test, y_pred))  \n",
    "print('Mean Squared Error:', metrics.mean_squared_error(y_test, y_pred))  \n",
    "print(\"R-squared:\", metrics.r2_score(y_test, y_pred))"
   ]
  },
  {
   "cell_type": "markdown",
   "metadata": {},
   "source": [
    "<br>\n",
    "\n",
    "## Relationships between Dataset Variables\n",
    "\n",
    "Every variable in this dataset can potentially be correlated with every other, but I think a lot of these relationships have little significance. For instance, one could be tempted to investigate if the restaurant is busier on weekends or weekdays  but considering we only have data based on a single server's schedule, we cannot really compare these factors in any significant way with no real dinner data for Thursday or Friday and not a single piece of lunch data for Saturday or Sunday. Also, I do not believe the smoker data reveals anything interesting. The descriptive statistics on the smoker data demonstrated very little difference across all factors and I think the slight distinctions observed are better explained by another factor, group size, which is an interesting variable that I will discuss further in a later section.\n",
    "\n",
    "Since the main purpose of this dataset is to assess the tips a server, I will focus on relationships with this variable in my investigations below. The following is a list of questions I will attempt to address:\n",
    "- Is tip percent a better metric than tip value?\n",
    "- How does group size affect tipping?\n",
    "- Do many customers round to the nearest dollar when tipping?"
   ]
  },
  {
   "cell_type": "markdown",
   "metadata": {},
   "source": [
    "### Tip Value Versus Tip Percentage\n",
    "\n",
    "If a generous tip is considered to be a proportion of a particular bill rather than the actual amount, then perhaps the tip percentage will reveal some interesting characteristics about this dataset. To this end, the *tip_percent* column was created at the beginning of this project. The plot below shows the *tip* and *total_bill* relational plot colour encoded with *tip_percent*. It appears from this plot that the darker colours, representing higher tip percentages, are more prevalent among low bill values, while higher bill values may have a proportionally lower tip. "
   ]
  },
  {
   "cell_type": "code",
   "execution_count": 34,
   "metadata": {},
   "outputs": [
    {
     "data": {
      "image/png": "[encoded data removed]",
      "text/plain": [
       "<Figure size 454.35x360 with 1 Axes>"
      ]
     },
     "metadata": {
      "needs_background": "light"
     },
     "output_type": "display_data"
    }
   ],
   "source": [
    "# Plotting tips with total_bill with a hue of tip_percent.\n",
    "sns.relplot(x=\"total_bill\", y=\"tip\", hue='tip_percent', palette=\"winter_r\", data=tips_df)\n",
    "plt.show()"
   ]
  },
  {
   "cell_type": "markdown",
   "metadata": {},
   "source": [
    "To look at this closer, tip value is replaced with tip percentage. If customers are adhering to a 15% tip norm, we would expect to see values clustered around the 15% mark on the plot. However, there seems to be a slightly downward trend and total_bill gets larger."
   ]
  },
  {
   "cell_type": "code",
   "execution_count": 35,
   "metadata": {},
   "outputs": [
    {
     "data": {
      "image/png": "[encoded data removed]",
      "text/plain": [
       "<Figure size 360x360 with 1 Axes>"
      ]
     },
     "metadata": {
      "needs_background": "light"
     },
     "output_type": "display_data"
    }
   ],
   "source": [
    "# Plotting total_bill and tip_percent.\n",
    "sns.relplot(x=\"total_bill\", y=\"tip_percent\", data=tips_df)\n",
    "plt.show()"
   ]
  },
  {
   "cell_type": "markdown",
   "metadata": {},
   "source": [
    "It is worth noting that, while the bill/tip relational plot has a y value range of about 1-10, the range of the bill/percent plot is much larger, between about 3-70, due to a couple of generous customers that tipped a substantial percentage of their bill. Below I've removed the top 3 *tip_percent* values (https://stackoverflow.com/a/27360130) in order to get a better look at the rest of the data, which is clustered quite tightly together in the plot above. The data points are very dispersed in this plot but hint towards a downward trend. "
   ]
  },
  {
   "cell_type": "code",
   "execution_count": 36,
   "metadata": {},
   "outputs": [
    {
     "data": {
      "image/png": "[encoded data removed]",
      "text/plain": [
       "<Figure size 360x360 with 1 Axes>"
      ]
     },
     "metadata": {
      "needs_background": "light"
     },
     "output_type": "display_data"
    }
   ],
   "source": [
    "# Removing the 3 tip percentages that over 30%\n",
    "tips2 = tips_df.drop(tips_df[tips_df.tip_percent > 30].index)\n",
    "\n",
    "# Plotting total_bill and tip_percent without the outliers.\n",
    "sns.relplot(x=\"total_bill\", y=\"tip_percent\", data=tips2)\n",
    "plt.show()"
   ]
  },
  {
   "cell_type": "markdown",
   "metadata": {},
   "source": [
    "Having a look at the correlation below, the Pearson r value of -0.34 indicates a moderately negative correlation (https://www.statisticssolutions.com/pearsons-correlation-coefficient/) between the *total_bill* and *tip_percent* values, suggesting that as bills get higher, the ratio of the tip gets lower."
   ]
  },
  {
   "cell_type": "code",
   "execution_count": 37,
   "metadata": {},
   "outputs": [
    {
     "data": {
      "text/html": [
       "<div>\n",
       "<style scoped>\n",
       "    .dataframe tbody tr th:only-of-type {\n",
       "        vertical-align: middle;\n",
       "    }\n",
       "\n",
       "    .dataframe tbody tr th {\n",
       "        vertical-align: top;\n",
       "    }\n",
       "\n",
       "    .dataframe thead th {\n",
       "        text-align: right;\n",
       "    }\n",
       "</style>\n",
       "<table border=\"1\" class=\"dataframe\">\n",
       "  <thead>\n",
       "    <tr style=\"text-align: right;\">\n",
       "      <th></th>\n",
       "      <th>tip_percent</th>\n",
       "      <th>total_bill</th>\n",
       "    </tr>\n",
       "  </thead>\n",
       "  <tbody>\n",
       "    <tr>\n",
       "      <td>tip_percent</td>\n",
       "      <td>1.000000</td>\n",
       "      <td>-0.338624</td>\n",
       "    </tr>\n",
       "    <tr>\n",
       "      <td>total_bill</td>\n",
       "      <td>-0.338624</td>\n",
       "      <td>1.000000</td>\n",
       "    </tr>\n",
       "  </tbody>\n",
       "</table>\n",
       "</div>"
      ],
      "text/plain": [
       "             tip_percent  total_bill\n",
       "tip_percent     1.000000   -0.338624\n",
       "total_bill     -0.338624    1.000000"
      ]
     },
     "execution_count": 37,
     "metadata": {},
     "output_type": "execute_result"
    }
   ],
   "source": [
    "tips_df[['tip_percent', 'total_bill']].corr()"
   ]
  },
  {
   "cell_type": "markdown",
   "metadata": {},
   "source": [
    "Below I perform a linear regression analysis between *total_bill* and *tip_percent* in a similar fashion to the previous section. Considering how dispersed the data is, the model is not strong but it does confirm a slight downwards linear trend. \n"
   ]
  },
  {
   "cell_type": "code",
   "execution_count": 38,
   "metadata": {},
   "outputs": [
    {
     "data": {
      "image/png": "[encoded data removed]",
      "text/plain": [
       "<Figure size 432x288 with 1 Axes>"
      ]
     },
     "metadata": {
      "needs_background": "light"
     },
     "output_type": "display_data"
    }
   ],
   "source": [
    "# Defining variables.\n",
    "X2 = tips_df['total_bill'].values.reshape(-1,1)\n",
    "y2 = tips_df['tip_percent'].values.reshape(-1,1)\n",
    "\n",
    "# Splitting data into training and testing variables.\n",
    "X2_train, X2_test, y2_train, y2_test = train_test_split(X2, y2, test_size = 0.2, random_state = 10)\n",
    "\n",
    "# Training the model.\n",
    "reg2 = LinearRegression()\n",
    "reg2.fit(X2_train, y2_train)\n",
    "\n",
    "# Predicting tip percentage based on total bill values.\n",
    "y2_pred = reg2.predict(X2_test)\n",
    "\n",
    "# Lining the model up with the actual tip percent and total bill data.\n",
    "plt.scatter(tips_df.total_bill, tips_df.tip_percent, marker='.', c='blue')\n",
    "plt.plot(X2_test, y2_pred, color='red', linewidth=1)\n",
    "plt.show()"
   ]
  },
  {
   "cell_type": "markdown",
   "metadata": {},
   "source": [
    "In the model metrics, the slope indicates that for every dollar increase in the bill, the tip percentage decreases by about 0.25% but the R<sup>2</sup> value indicates that only about 10% of tip percentage values can be predicted by the total bill amount in this model. The MAE and MSE values are also quite large, which is not surprising considering how dispersed the data is. However, while this is not a good predictive model for *total_bill* and *tip_percent*, it does indicate that, unlike the positive relationship between bill and tip amounts, when it comes to tips as a proportion of the bill there is certainly a negative trend."
   ]
  },
  {
   "cell_type": "code",
   "execution_count": 39,
   "metadata": {},
   "outputs": [
    {
     "name": "stdout",
     "output_type": "stream",
     "text": [
      "Slope: [[-0.24965611]]\n",
      "Mean Absolute Error: 3.255283621838777\n",
      "Mean Squared Error: 17.039776425073036\n",
      "R-squared: 0.10547953646839991\n"
     ]
    }
   ],
   "source": [
    "# Model metrics.\n",
    "print(\"Slope:\",  reg2.coef_)\n",
    "print('Mean Absolute Error:', metrics.mean_absolute_error(y2_test, y2_pred))  \n",
    "print('Mean Squared Error:', metrics.mean_squared_error(y2_test, y2_pred))  \n",
    "print(\"R-squared:\", metrics.r2_score(y2_test, y2_pred))"
   ]
  },
  {
   "cell_type": "markdown",
   "metadata": {},
   "source": [
    "<br>\n",
    "\n",
    "### Tipping and Group Size\n",
    "\n",
    "\n",
    "It might be presumed that larger groups will tip more since there are more people to contribute, but the opposite is often the case, either because people receive less individual attention from the server or the responsibility is too diffused across several individuals. (https://scholarship.sha.cornell.edu/cgi/viewcontent.cgi?referer=&httpsredir=1&article=1036&context=articles) This phenomenon is likely the reason that so many restaurants have a mandatory service charge for parties over a certain number. (https://link.springer.com/chapter/10.1007%2F978-0-387-71762-3_7) As seen in the descriptive statistics earlier, the vast majority of groups in this dataset are tables of 2. Tables with 1, 5 or 6 people are very rare, only in the single digits. The plot below shows the disproportional distribution of group sizes and for this reason, I will focus more on data related to groups of 2, 3 or 4 people.  "
   ]
  },
  {
   "cell_type": "code",
   "execution_count": 40,
   "metadata": {},
   "outputs": [
    {
     "name": "stdout",
     "output_type": "stream",
     "text": [
      "size\n",
      "1      4\n",
      "2    156\n",
      "3     38\n",
      "4     37\n",
      "5      5\n",
      "6      4\n",
      "dtype: int64\n"
     ]
    },
    {
     "data": {
      "image/png": "[encoded data removed]",
      "text/plain": [
       "<Figure size 432x288 with 1 Axes>"
      ]
     },
     "metadata": {
      "needs_background": "light"
     },
     "output_type": "display_data"
    }
   ],
   "source": [
    "# Group size counts\n",
    "print(tips_df.groupby(\"size\").size())\n",
    "\n",
    "# Plotting distribution of group size.\n",
    "pd.DataFrame.hist(data=tips_df, column='size')\n",
    "plt.show()"
   ]
  },
  {
   "cell_type": "markdown",
   "metadata": {},
   "source": [
    "As might be expected, larger groups, represented by the darker dots in the plot below (https://amitkushwaha.co.in/data-visualization-part-1.html), usually have larger bills while smaller groups tend to have smaller bills. The tip values also have a similar trend but definitely look more dispersed."
   ]
  },
  {
   "cell_type": "code",
   "execution_count": 41,
   "metadata": {},
   "outputs": [
    {
     "data": {
      "image/png": "[encoded data removed]",
      "text/plain": [
       "<Figure size 419.1x360 with 1 Axes>"
      ]
     },
     "metadata": {
      "needs_background": "light"
     },
     "output_type": "display_data"
    }
   ],
   "source": [
    "# Bill and tip values by group size. \n",
    "sns.relplot(x=\"total_bill\", y=\"tip\", hue='size', palette=\"winter_r\", data=tips_df)\n",
    "plt.show()"
   ]
  },
  {
   "cell_type": "markdown",
   "metadata": {},
   "source": [
    "The plot below replaces tip value with tip percentage and is also quite dispersed but there are quite a lot of darker coloured dots towards the low end of the *tip_percent* measurement, indicating larger groups with proportionally smaller tips.  "
   ]
  },
  {
   "cell_type": "code",
   "execution_count": 42,
   "metadata": {},
   "outputs": [
    {
     "data": {
      "image/png": "[encoded data removed]",
      "text/plain": [
       "<Figure size 419.1x360 with 1 Axes>"
      ]
     },
     "metadata": {
      "needs_background": "light"
     },
     "output_type": "display_data"
    }
   ],
   "source": [
    "# Bill and tip values by group size. \n",
    "sns.relplot(x=\"total_bill\", y=\"tip_percent\", hue='size', palette=\"winter_r\", data=tips_df)\n",
    "plt.show()"
   ]
  },
  {
   "cell_type": "markdown",
   "metadata": {},
   "source": [
    "The pivot table below (https://data-and-design.readthedocs.io/en/latest/02-introPandas.html) shows the mean values for the *tip_percent* variable separated by group size. Just taking into account groups of 2, 3 and 4 people, the tip percentage decreases from 16.58\\% to 15.22\\% to 14.59\\% respectively as the group size grows."
   ]
  },
  {
   "cell_type": "code",
   "execution_count": 43,
   "metadata": {
    "scrolled": false
   },
   "outputs": [
    {
     "data": {
      "text/html": [
       "<div>\n",
       "<style scoped>\n",
       "    .dataframe tbody tr th:only-of-type {\n",
       "        vertical-align: middle;\n",
       "    }\n",
       "\n",
       "    .dataframe tbody tr th {\n",
       "        vertical-align: top;\n",
       "    }\n",
       "\n",
       "    .dataframe thead th {\n",
       "        text-align: right;\n",
       "    }\n",
       "</style>\n",
       "<table border=\"1\" class=\"dataframe\">\n",
       "  <thead>\n",
       "    <tr style=\"text-align: right;\">\n",
       "      <th></th>\n",
       "      <th></th>\n",
       "    </tr>\n",
       "    <tr>\n",
       "      <th>size</th>\n",
       "      <th></th>\n",
       "    </tr>\n",
       "  </thead>\n",
       "  <tbody>\n",
       "    <tr>\n",
       "      <td>1</td>\n",
       "      <td>21.729202</td>\n",
       "    </tr>\n",
       "    <tr>\n",
       "      <td>2</td>\n",
       "      <td>16.571919</td>\n",
       "    </tr>\n",
       "    <tr>\n",
       "      <td>3</td>\n",
       "      <td>15.215685</td>\n",
       "    </tr>\n",
       "    <tr>\n",
       "      <td>4</td>\n",
       "      <td>14.594901</td>\n",
       "    </tr>\n",
       "    <tr>\n",
       "      <td>5</td>\n",
       "      <td>14.149549</td>\n",
       "    </tr>\n",
       "    <tr>\n",
       "      <td>6</td>\n",
       "      <td>15.622920</td>\n",
       "    </tr>\n",
       "  </tbody>\n",
       "</table>\n",
       "</div>"
      ],
      "text/plain": [
       "               \n",
       "size           \n",
       "1     21.729202\n",
       "2     16.571919\n",
       "3     15.215685\n",
       "4     14.594901\n",
       "5     14.149549\n",
       "6     15.622920"
      ]
     },
     "execution_count": 43,
     "metadata": {},
     "output_type": "execute_result"
    }
   ],
   "source": [
    "# Pivot table of descriptive statistics for tip percent y group size.\n",
    "pivot_mean = tips_df.pivot(columns='size', values='tip_percent').mean()\n",
    "pivot_mean = pd.Series.to_frame(pivot_mean, name=\" \")\n",
    "pivot_mean"
   ]
  },
  {
   "cell_type": "markdown",
   "metadata": {},
   "source": [
    "Visualising this below (# Adapted from Python for Data Analysis p. 276 and https://stackoverflow.com/questions/42818361/how-to-make-two-plots-side-by-side-using-python) alongside the actual tip values shows how, even though the tip values increase as group size gets bigger, the are proportionally less. Smaller groups appear to be better tippers in terms of tips as a percentage of the bill."
   ]
  },
  {
   "cell_type": "code",
   "execution_count": null,
   "metadata": {},
   "outputs": [],
   "source": [
    "# Visualising tip value and tip percent by group size side-by-side.\n",
    "plt.figure(figsize=(10, 5))\n",
    "\n",
    "plt.subplot(1, 2, 1)\n",
    "sns.barplot(x='tip', y='size', data=tips_df, orient='h')\n",
    "\n",
    "plt.subplot(1, 2, 2)\n",
    "sns.barplot(x='tip_percent', y='size', data=tips_df, orient='h')\n",
    "\n",
    "plt.tight_layout()\n",
    "plt.show()"
   ]
  },
  {
   "cell_type": "markdown",
   "metadata": {},
   "source": [
    "The plots below (https://seaborn.pydata.org/tutorial/regression.html#regression-tutorial)and https://stackoverflow.com/a/33091668 demonstrate these differences as linear relationships. As group size grows, the tip value grows but the tip ratio falls."
   ]
  },
  {
   "cell_type": "code",
   "execution_count": null,
   "metadata": {},
   "outputs": [],
   "source": [
    "# Plotting linear relationships for tip value and tip percent by group size side-by-side.\n",
    "plt.figure(figsize=(10, 5))\n",
    "\n",
    "plt.subplot(1, 2, 1)\n",
    "sns.regplot(x=\"size\", y=\"tip\", data=tips_df, x_estimator=np.mean)\n",
    "\n",
    "plt.subplot(1, 2, 2)\n",
    "sns.regplot(x=\"size\", y=\"tip_percent\", data=tips_df, x_estimator=np.mean)\n",
    "\n",
    "plt.tight_layout()\n",
    "plt.show()"
   ]
  },
  {
   "cell_type": "markdown",
   "metadata": {},
   "source": [
    "Even though there is a seemingly linear relationship between group size and tip percent, linear regression would not be suitable to assess this as the *size* variable is discrete rather than continuous. Logistic regression is similar to linear regression except that it is used for classification. (https://towardsdatascience.com/building-a-logistic-regression-in-python-301d27367c24) My first thought was to use K-Nearest Neighbors model to classify group size based on tip percentage but because there is a disproportionate amount of data on groups of 2, I did not believe it to be suitable considering it depends on clusters of data. With the apparent negative linear relationship between group size and tip percent, a logistic regression model might be a better way to see if the size of a group can be predicted based on tip percent. The layout of the code below is similar to that of linear regression and the score (https://towardsdatascience.com/logistic-regression-using-python-sklearn-numpy-mnist-handwriting-recognition-matplotlib-a6b31e2b166a) shows that it has an accuracy of 63% in correctly predicting group size based on tip percent. "
   ]
  },
  {
   "cell_type": "code",
   "execution_count": null,
   "metadata": {},
   "outputs": [],
   "source": [
    "# Defining variables.\n",
    "X3 = tips_df['tip_percent'].values.reshape(-1,1)\n",
    "y3 = tips_df['size'].values\n",
    "\n",
    "# Splitting data into training and testing variables.\n",
    "X3_train, X3_test, y3_train, y3_test = train_test_split(X3, y3, test_size = 0.2, random_state = 10)\n",
    "\n",
    "# Training the model.\n",
    "logreg = LogisticRegression(solver = 'lbfgs', multi_class = 'auto')\n",
    "logreg.fit(X3_train, y3_train)\n",
    "\n",
    "# Predicting tip percentage based on group size.\n",
    "y3_pred = logreg.predict(X3_test)\n",
    "\n",
    "# Testing the accuracy of the model.\n",
    "score = logreg.score(X3_test, y3_test)\n",
    "print(\"Accuracy Score:\", score)"
   ]
  },
  {
   "cell_type": "markdown",
   "metadata": {},
   "source": [
    "Unfortunately, the group size variable is so out of proportion that the model guesses that the group size is 2 for every prediction and will appear accurate. The plot below visualises this problem. "
   ]
  },
  {
   "cell_type": "code",
   "execution_count": null,
   "metadata": {},
   "outputs": [],
   "source": [
    "# Plotting the actual and predicted values.\n",
    "log_model = pd.DataFrame({'Actual': y3_test.flatten(), 'Predicted': y3_pred.flatten()})\n",
    "\n",
    "log_model.plot(kind='bar',figsize=(12, 6))\n",
    "plt.show()"
   ]
  },
  {
   "cell_type": "markdown",
   "metadata": {},
   "source": [
    "Despite this issue, it can be argued that the *size* variable is the most important one in the tips dataset https://link.springer.com/chapter/10.1007%2F978-0-387-71762-3_7. I believe that many differences in other variables simply come down to group size differences. According to the descriptive statistics on the categorical variables, group sizes are larger when:\n",
    "- It is dinner time.\n",
    "- It is the weekend.\n",
    "- Men pay the bill.\n",
    "- The table is in in the non-smoking section.\n",
    "\n",
    "\n",
    "Interestingly these same groupings also have proportionally lower tip ratios. I'll look at each of these further below and how they potentially relate with each other in terms of proportional tips."
   ]
  },
  {
   "cell_type": "markdown",
   "metadata": {},
   "source": [
    "The plot below (https://seaborn.pydata.org/introduction.html) gives an idea of the worker's shifts over the days measured. It looks like they have the lunch shift on a Thursday and perhaps caught one early dinner customer before the end of a shift. On Fridays perhaps the worker only works half a shift, from lunch into dinner, which may account for the relatively small numbers. Or maybe they covered a shift or two for a co-worker and their regular days are Thursday, Saturday and Sunday. On Saturdays and Sundays, the employee only works the dinner shift. "
   ]
  },
  {
   "cell_type": "code",
   "execution_count": null,
   "metadata": {},
   "outputs": [],
   "source": [
    "# Plotting differences in day and time.\n",
    "sns.catplot(x=\"day\", y=\"total_paid\", col=\"time\", kind=\"swarm\", data=tips_df)\n",
    "plt.show()"
   ]
  },
  {
   "cell_type": "markdown",
   "metadata": {},
   "source": [
    "The plots below illustrate that larger dining groups are more likely to come to the restaurant for dinner over lunch. Because of the servers schedule above, it also means that they meet larger groups on the weekend. To emphasise the distinction between weekdays and weekends, I have renamed the individual days to either \"Weekday\" or \"Weekend\" below. (https://www.geeksforgeeks.org/python-pandas-dataframe-replace/)"
   ]
  },
  {
   "cell_type": "code",
   "execution_count": null,
   "metadata": {},
   "outputs": [],
   "source": [
    "# Renaming days to weekend and weekday.\n",
    "tips_alt = tips_df.replace(to_replace=[\"Thur\", \"Fri\"], value=\"Weekday\")\n",
    "tips_alt = tips_alt.replace(to_replace=[\"Sat\", \"Sun\"], value=\"Weekend\")\n",
    "\n",
    "# Plotting group sizes by time and day.\n",
    "plt.figure(figsize=(10, 5))\n",
    "\n",
    "plt.subplot(1, 2, 1)\n",
    "sns.countplot(x='time', hue='size', data=tips_alt)\n",
    "\n",
    "plt.subplot(1, 2, 2)\n",
    "sns.countplot(x='day', hue='size', data=tips_alt)\n",
    "\n",
    "plt.tight_layout()\n",
    "plt.show()"
   ]
  },
  {
   "cell_type": "markdown",
   "metadata": {},
   "source": [
    "With these larger group sizes, the total amount paid by customers is larger for dinner and weekend patrons. Weekend dinner patrons spend on average \\\\$24 and weekday dinner patrons spend a little less at \\\\$22.54 with weekday lunch patrons spending just \\\\$19.90."
   ]
  },
  {
   "cell_type": "code",
   "execution_count": null,
   "metadata": {},
   "outputs": [],
   "source": [
    "# Total amount paid by day and time.\n",
    "x = tips_alt.groupby(['day', 'time'])['total_paid'].mean()\n",
    "x = pd.Series.to_frame(x, name=\"total_paid\")\n",
    "x"
   ]
  },
  {
   "cell_type": "markdown",
   "metadata": {},
   "source": [
    "It should be noted that there is very little representation of weekday dinner patrons who represent only 13 instances in this dataset and so the main distinction considered should be weekday lunches and weekend dinners. "
   ]
  },
  {
   "cell_type": "code",
   "execution_count": null,
   "metadata": {},
   "outputs": [],
   "source": [
    "# Value counts.\n",
    "x = tips_alt.groupby(['day', 'time']).size()\n",
    "x = pd.Series.to_frame(x, name=\"count\")\n",
    "x"
   ]
  },
  {
   "cell_type": "markdown",
   "metadata": {},
   "source": [
    "Even though less money is spent on weekday lunches, the tip ratio is larger at 16.41\\% versus 15.96\\% on weekend dinners and I believe this difference is mainly due to group size differences.    "
   ]
  },
  {
   "cell_type": "code",
   "execution_count": null,
   "metadata": {},
   "outputs": [],
   "source": [
    "# Tip percent by day and time.\n",
    "x = tips_alt.groupby(['day', 'time'])['tip_percent'].mean()\n",
    "x = pd.Series.to_frame(x, name=\"tip_percent\")\n",
    "x"
   ]
  },
  {
   "cell_type": "markdown",
   "metadata": {},
   "source": [
    "This distinction between weekday lunches and weekend dinners can possibly explain the sex differences in tipping ratio. According to the plots below, men are much more likely to pay on the weekends and for dinner, which as explained previously are both associated with larger groups and smaller tip ratios. Men and women look to be about equally likely to pay for a weekday lunch. "
   ]
  },
  {
   "cell_type": "code",
   "execution_count": null,
   "metadata": {},
   "outputs": [],
   "source": [
    "# Plotting sex differences in day and time.\n",
    "plt.figure(figsize=(10, 5))\n",
    "\n",
    "plt.subplot(1, 2, 1)\n",
    "sns.countplot(x='sex', hue='day', data=tips_alt)\n",
    "\n",
    "plt.subplot(1, 2, 2)\n",
    "sns.countplot(x='sex', hue='time', data=tips_df)\n",
    "\n",
    "plt.tight_layout()\n",
    "plt.show()"
   ]
  },
  {
   "cell_type": "markdown",
   "metadata": {},
   "source": [
    "However, it seems that women give a higher average tip percentage since they are more likely to pay for the smaller groups of weekday lunches than the larger groups of weekend dinners."
   ]
  },
  {
   "cell_type": "code",
   "execution_count": null,
   "metadata": {},
   "outputs": [],
   "source": [
    "x = tips_df.groupby(['sex'])['tip_percent'].mean()\n",
    "x = pd.Series.to_frame(x, name=\"tip_percent\")\n",
    "x"
   ]
  },
  {
   "cell_type": "markdown",
   "metadata": {},
   "source": [
    "The same can be said for the smoker data. Larger groups are more likely to sit in the non-smoking section.  "
   ]
  },
  {
   "cell_type": "code",
   "execution_count": null,
   "metadata": {},
   "outputs": [],
   "source": [
    "sns.countplot(x='smoker', hue='size', data=tips_df)\n",
    "plt.show()"
   ]
  },
  {
   "cell_type": "markdown",
   "metadata": {},
   "source": [
    "A similar trend is then observed with the smaller groups in smoking sections having a sightly higher tip ration of 16.3\\% over 15.9\\% for smokers."
   ]
  },
  {
   "cell_type": "code",
   "execution_count": null,
   "metadata": {},
   "outputs": [],
   "source": [
    "# Tip percent by smoker.\n",
    "x = tips_df.groupby(['smoker'])['tip_percent'].mean()\n",
    "x = pd.Series.to_frame(x, name=\"tip_percent\")\n",
    "x"
   ]
  },
  {
   "cell_type": "markdown",
   "metadata": {},
   "source": [
    "The differences in tip ratios across all categorical variables above are quite small but support the overall trend that as group sizes get bigger, the tip ratio gets smaller."
   ]
  },
  {
   "cell_type": "markdown",
   "metadata": {},
   "source": [
    "### Rounding to the nearest dollar\n",
    "\n",
    "One factor that might affect tipping is the tendency for customers to round up their total paid to an even amount or tip with an even amount rather than consciously calculate a certain percentage of the bill ((https://dicook.public.iastate.edu/stat503/05/cs-tips2.pdf) (https://www.washingtonpost.com/news/going-out-guide/wp/2016/09/15/tipping-can-be-complicated-these-are-the-basic-rules-you-should-know-about/) To investigate this, the *total_paid* column was added to the dataset at the beginning of the project. The code below splits the *total_paid* column into values that are rounded to the nearest dollar (*bill_rnd*) and values that are unrounded (*bill_unrnd*). These figures show that almost a quarter of payments are made to the nearest dollar."
   ]
  },
  {
   "cell_type": "code",
   "execution_count": null,
   "metadata": {},
   "outputs": [],
   "source": [
    "# Creating lists containing rounded and unrounded values in total_paid\n",
    "bill_rnd = []\n",
    "bill_unrnd = []\n",
    "\n",
    "for i in tips_df.total_paid:\n",
    "    if i == int(i):\n",
    "        bill_rnd.append(i)\n",
    "    else:\n",
    "        bill_unrnd.append(i)\n",
    "        \n",
    "# Finding percentage of total_paid that were rounded and unrounded\n",
    "print(\"Unrounded payments percentage:\")\n",
    "print(len(bill_unrnd)/len(tips_df)*100)\n",
    "print()\n",
    "print(\"Rounded payments percentage:\")\n",
    "print(len(bill_rnd)/len(tips_df)*100)"
   ]
  },
  {
   "cell_type": "markdown",
   "metadata": {},
   "source": [
    "To see how these types of payments affect tipping, the dataset is split into two separate datasets based on the lists created above. (https://stackoverflow.com/a/17071908)"
   ]
  },
  {
   "cell_type": "code",
   "execution_count": null,
   "metadata": {},
   "outputs": [],
   "source": [
    "# Creating two datasets based on roundedness of total_paid variable.\n",
    "bill_unrnd_df = tips_df.loc[tips_df['total_paid'].isin(bill_unrnd)]\n",
    "\n",
    "bill_rnd_df = tips_df.loc[tips_df['total_paid'].isin(bill_rnd)]"
   ]
  },
  {
   "cell_type": "markdown",
   "metadata": {},
   "source": [
    "The descriptive statistics below for these sub-datasets show that there is very little difference in the means across all variables and slight 0.47% difference in tip percentage with the unrounded being slightly higher. This indicates that people who round to the nearest dollar when paying may tip slightly less. Group size is also slightly larger on average with the rounded payments."
   ]
  },
  {
   "cell_type": "code",
   "execution_count": null,
   "metadata": {},
   "outputs": [],
   "source": [
    "# Unrounded descriptive statistics.\n",
    "bill_unrnd_df.describe()"
   ]
  },
  {
   "cell_type": "code",
   "execution_count": null,
   "metadata": {},
   "outputs": [],
   "source": [
    "# Rounded descriptive statistics.\n",
    "bill_rnd_df.describe()"
   ]
  },
  {
   "cell_type": "markdown",
   "metadata": {},
   "source": [
    "Tips themselves can also be rounded if, for instance, a customer pays their bill with a card and leaves a cash tip of a few dollars. The code below splits the *tip* column into values that are rounded to the nearest dollar (*tip_rnd*) and values that are unrounded (*tip_unrnd*). These figures show that almost 35% of tips are round dollar amounts."
   ]
  },
  {
   "cell_type": "code",
   "execution_count": null,
   "metadata": {},
   "outputs": [],
   "source": [
    "# Creating lists containing rounded and unrounded tip values.\n",
    "tip_rnd = []\n",
    "tip_unrnd = []\n",
    "\n",
    "for i in tips_df.tip:\n",
    "    if i == int(i):\n",
    "        tip_rnd.append(i)\n",
    "    else:\n",
    "        tip_unrnd.append(i)\n",
    "        \n",
    "# Finding percentage of tips that were rounded and unrounded\n",
    "print(\"Unrounded tips percentage:\")\n",
    "print(len(tip_unrnd)/len(tips_df)*100)\n",
    "print()\n",
    "print(\"Rounded tips percentage:\")\n",
    "print(len(tip_rnd)/len(tips_df)*100)"
   ]
  },
  {
   "cell_type": "markdown",
   "metadata": {},
   "source": [
    "The dataset is split into two sub-datasets based on the lists created above. (https://stackoverflow.com/a/17071908)"
   ]
  },
  {
   "cell_type": "code",
   "execution_count": null,
   "metadata": {},
   "outputs": [],
   "source": [
    "# Creating two datasets based on roundedness of tip variable.\n",
    "tip_unrnd_df = tips_df.loc[tips_df['tip'].isin(tip_unrnd)]\n",
    "\n",
    "tip_rnd_df = tips_df.loc[tips_df['tip'].isin(tip_rnd)]"
   ]
  },
  {
   "cell_type": "markdown",
   "metadata": {},
   "source": [
    "The descriptive statistics for these datasets show that rounded tip percentages are slightly lower, similar to rounded totals, but only by 0.08\\%. And again group sizes for them are ever so slightly larger.  "
   ]
  },
  {
   "cell_type": "code",
   "execution_count": null,
   "metadata": {},
   "outputs": [],
   "source": [
    "tip_unrnd_df.describe()"
   ]
  },
  {
   "cell_type": "code",
   "execution_count": null,
   "metadata": {},
   "outputs": [],
   "source": [
    "tip_rnd_df.describe()"
   ]
  },
  {
   "cell_type": "markdown",
   "metadata": {},
   "source": [
    "So it seems that about 25% of people pay their total to a round dollar amount and about 35% tip an even dollar amount. Even though the differences between rounded and unrounded amounts in both cases are minimal, unrounded payments have marginally smaller group sizes and slightly larger tip ratios"
   ]
  },
  {
   "cell_type": "markdown",
   "metadata": {},
   "source": [
    "<br>\n",
    "\n",
    "## Conclusion\n",
    "\n",
    "Overall this simple dataset demonstrates a positive linear relationship between the total bill and tip amounts but interestingly a slightly negative relationship between total bill and tip percentage. This discrepancy is most likely down to differences in group sizes with larger groups, which have larger bills, offering proportionally lower tips. However, it is difficult to draw any substantial conclusions from this dataset as the categories are unequally represented throughout with the male, non-smokers, dinner and weekend variables far outnumbering their counterparts, representing 64.3\\%, 61.9\\%, 66.8\\% and 72.1\\% of their categories respectively. Group sizes are also disproportionate with tables of 2 representing 63.9\\% of the data. \n",
    "\n",
    "If a similar dataset was created with data from multiple servers across a longer period of time, it would be interesting to see if the trends observed in this project are still applicable. There are also several factors that affect tipping which are not available in this dataset such as the gender of servers, the age of the patrons, the atmosphere of the restaurant, perceived food quality and the socioeconomic area.(https://scholarship.sha.cornell.edu/cgi/viewcontent.cgi?referer=&httpsredir=1&article=1036&context=articles)(https://blog.aarp.org/healthy-living/are-you-a-big-tipper-survey-shows-age-region-matters)"
   ]
  },
  {
   "cell_type": "markdown",
   "metadata": {},
   "source": [
    "## References\n",
    "\n",
    "1. The tips dataset: https://link.springer.com/chapter/10.1007%2F978-0-387-71762-3_7\n",
    "2. Information about the restaurant: https://link.springer.com/chapter/10.1007%2F978-0-387-71762-3_7\n",
    "Average tips: (https://scholarship.sha.cornell.edu/cgi/viewcontent.cgi?referer=&httpsredir=1&article=1036&context=articles)\n",
    "3. Mall restaurants https://www.foodfranchise.com/blog/food-franchise-blog/the-biggest-differences-between-mall-and-stand-alone-locations\n",
    "4. Pie chart code adapted from https://stackoverflow.com/a/31499100 \n",
    "5. Pie chart code adapted from  https://matplotlib.org/3.1.1/gallery/pie_and_polar_charts/pie_features.html\n",
    "\n",
    "Correlation:https://dfrieds.com/math/correlation\n",
    "Correlation r value: https://www.statisticssolutions.com/pearsons-correlation-coefficient/\n",
    "\n",
    "Regression code adapted from: https://realpython.com/linear-regression-in-python/ and https://towardsdatascience.com/a-beginners-guide-to-linear-regression-in-python-with-scikit-learn-83a8f7ae2b4f\n",
    "\n",
    "reshape: https://realpython.com/linear-regression-in-python/\n",
    "\n",
    "80/20 train/test split: https://stackoverflow.com/a/13612921\n",
    "\n",
    "random state: https://stackoverflow.com/a/42197534\n",
    "\n",
    "Interpreting the intercept: https://www.theanalysisfactor.com/interpreting-the-intercept-in-a-regression-model/\n",
    "\n",
    "Interpreting the slope: https://www.ritchieng.com/machine-learning-evaluate-linear-regression-model/\n",
    "\n",
    "Coefficient of determination: https://www.investopedia.com/terms/c/coefficient-of-determination.asp\n",
    "\n",
    "Large groups tip less: https://scholarship.sha.cornell.edu/cgi/viewcontent.cgi?referer=&httpsredir=1&article=1036&context=articles\n",
    "\n",
    "Round to nearest dollar: https://dicook.public.iastate.edu/stat503/05/cs-tips2.pdf\n",
    "\n",
    "Splitting the dataset by column value adapted from: https://stackoverflow.com/a/17071908\n",
    "\n",
    "Regression plot size and tip percent: https://seaborn.pydata.org/tutorial/regression.html#regression-tutorial"
   ]
  },
  {
   "cell_type": "code",
   "execution_count": null,
   "metadata": {},
   "outputs": [],
   "source": []
  }
 ],
 "metadata": {
  "kernelspec": {
   "display_name": "Python 3",
   "language": "python",
   "name": "python3"
  },
  "language_info": {
   "codemirror_mode": {
    "name": "ipython",
    "version": 3
   },
   "file_extension": ".py",
   "mimetype": "text/x-python",
   "name": "python",
   "nbconvert_exporter": "python",
   "pygments_lexer": "ipython3",
   "version": "3.7.4"
  },
  "toc": {
   "base_numbering": 1,
   "nav_menu": {},
   "number_sections": true,
   "sideBar": false,
   "skip_h1_title": true,
   "title_cell": "Table of Contents",
   "title_sidebar": "Contents",
   "toc_cell": true,
   "toc_position": {},
   "toc_section_display": true,
   "toc_window_display": false
  }
 },
 "nbformat": 4,
 "nbformat_minor": 2
}
